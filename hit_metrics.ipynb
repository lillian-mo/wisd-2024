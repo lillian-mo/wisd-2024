{
 "cells": [
  {
   "cell_type": "markdown",
   "metadata": {},
   "source": [
    "# Optimal Launch Angle and Barrels\n",
    "For our 2024 WISD Hackathon project, we decided to analyze the ideal launch angle of the data given, as it relates to barrels. We did this by graphing out the bat path and trajectory for ideal swings."
   ]
  },
  {
   "cell_type": "code",
   "execution_count": 1,
   "metadata": {},
   "outputs": [],
   "source": [
    "import os\n",
    "import json\n",
    "import pandas as pd"
   ]
  },
  {
   "cell_type": "markdown",
   "metadata": {},
   "source": [
    "### Load data"
   ]
  },
  {
   "cell_type": "code",
   "execution_count": 2,
   "metadata": {
    "scrolled": true
   },
   "outputs": [],
   "source": [
    "data_dir = 'anonymized-files-wisd'\n",
    "data_list = []\n",
    "\n",
    "for filename in os.listdir(data_dir):\n",
    "    with open(os.path.join(data_dir, filename), 'r') as file:\n",
    "        for line in file:\n",
    "            data_list.append(json.loads(line))"
   ]
  },
  {
   "cell_type": "code",
   "execution_count": 3,
   "metadata": {},
   "outputs": [
    {
     "data": {
      "text/html": [
       "<div>\n",
       "<style scoped>\n",
       "    .dataframe tbody tr th:only-of-type {\n",
       "        vertical-align: middle;\n",
       "    }\n",
       "\n",
       "    .dataframe tbody tr th {\n",
       "        vertical-align: top;\n",
       "    }\n",
       "\n",
       "    .dataframe thead th {\n",
       "        text-align: right;\n",
       "    }\n",
       "</style>\n",
       "<table border=\"1\" class=\"dataframe\">\n",
       "  <thead>\n",
       "    <tr style=\"text-align: right;\">\n",
       "      <th></th>\n",
       "      <th>events</th>\n",
       "      <th>samples_ball</th>\n",
       "      <th>samples_bat</th>\n",
       "      <th>units.length</th>\n",
       "      <th>units.velocity</th>\n",
       "      <th>units.acceleration</th>\n",
       "      <th>units.angle</th>\n",
       "      <th>summary_acts.pitch.eventId</th>\n",
       "      <th>summary_acts.pitch.type</th>\n",
       "      <th>summary_acts.pitch.result</th>\n",
       "      <th>...</th>\n",
       "      <th>summary_score.runs.game.team2</th>\n",
       "      <th>summary_score.runs.innings</th>\n",
       "      <th>summary_score.runs.play</th>\n",
       "      <th>summary_score.outs.inning</th>\n",
       "      <th>summary_score.outs.play</th>\n",
       "      <th>summary_score.count.balls.plateAppearance</th>\n",
       "      <th>summary_score.count.balls.play</th>\n",
       "      <th>summary_score.count.strikes.plateAppearance</th>\n",
       "      <th>summary_score.count.strikes.play</th>\n",
       "      <th>summary_acts.hit.eventId</th>\n",
       "    </tr>\n",
       "  </thead>\n",
       "  <tbody>\n",
       "    <tr>\n",
       "      <th>0</th>\n",
       "      <td>[]</td>\n",
       "      <td>[{'time': 0.0206462, 'pos': [-2.78340062072433...</td>\n",
       "      <td>[{'event': 'No'}]</td>\n",
       "      <td>foot</td>\n",
       "      <td>mph</td>\n",
       "      <td>mph/s</td>\n",
       "      <td>degree</td>\n",
       "      <td>54e48da8-67a0-46a4-bf51-c75170a07411</td>\n",
       "      <td>Sinker</td>\n",
       "      <td>Strike</td>\n",
       "      <td>...</td>\n",
       "      <td>0</td>\n",
       "      <td>[{'team1': 0, 'team2': 0}, {'team1': 0, 'team2...</td>\n",
       "      <td>0</td>\n",
       "      <td>2</td>\n",
       "      <td>0</td>\n",
       "      <td>0</td>\n",
       "      <td>0</td>\n",
       "      <td>0</td>\n",
       "      <td>1</td>\n",
       "      <td>NaN</td>\n",
       "    </tr>\n",
       "    <tr>\n",
       "      <th>1</th>\n",
       "      <td>[]</td>\n",
       "      <td>[{'time': 0.00387, 'pos': [-3.0194018498888253...</td>\n",
       "      <td>[{'event': 'First', 'time': -0.4092641, 'head'...</td>\n",
       "      <td>foot</td>\n",
       "      <td>mph</td>\n",
       "      <td>mph/s</td>\n",
       "      <td>degree</td>\n",
       "      <td>f1c5834c-ba80-419b-883f-56b665cb2e79</td>\n",
       "      <td>Sinker</td>\n",
       "      <td>Strike</td>\n",
       "      <td>...</td>\n",
       "      <td>0</td>\n",
       "      <td>[{'team1': 0, 'team2': 0}, {'team1': 0, 'team2...</td>\n",
       "      <td>0</td>\n",
       "      <td>0</td>\n",
       "      <td>0</td>\n",
       "      <td>0</td>\n",
       "      <td>0</td>\n",
       "      <td>1</td>\n",
       "      <td>1</td>\n",
       "      <td>NaN</td>\n",
       "    </tr>\n",
       "    <tr>\n",
       "      <th>2</th>\n",
       "      <td>[{'start': {'angle': [27.482588965436427, 65.8...</td>\n",
       "      <td>[{'time': 0.0069402, 'pos': [-2.59684931578240...</td>\n",
       "      <td>[{'event': 'First', 'time': -0.3827868, 'head'...</td>\n",
       "      <td>foot</td>\n",
       "      <td>mph</td>\n",
       "      <td>mph/s</td>\n",
       "      <td>degree</td>\n",
       "      <td>ac29b4ab-63bc-4672-a29c-f4517fd03c85</td>\n",
       "      <td>Changeup</td>\n",
       "      <td>HitIntoPlay</td>\n",
       "      <td>...</td>\n",
       "      <td>0</td>\n",
       "      <td>[{'team1': 0, 'team2': 0}, {'team1': 0, 'team2...</td>\n",
       "      <td>0</td>\n",
       "      <td>1</td>\n",
       "      <td>1</td>\n",
       "      <td>2</td>\n",
       "      <td>0</td>\n",
       "      <td>1</td>\n",
       "      <td>0</td>\n",
       "      <td>daf9742c-869c-4370-9d66-59e217be1c89</td>\n",
       "    </tr>\n",
       "    <tr>\n",
       "      <th>3</th>\n",
       "      <td>[{'start': {'angle': [37.20027897884712, -9.14...</td>\n",
       "      <td>[{'time': 0.0226918, 'pos': [-2.26856730788878...</td>\n",
       "      <td>[{'event': 'First', 'time': -0.4404741, 'head'...</td>\n",
       "      <td>foot</td>\n",
       "      <td>mph</td>\n",
       "      <td>mph/s</td>\n",
       "      <td>degree</td>\n",
       "      <td>8efde6c7-6ab0-40aa-a197-c1ad42bb7ee7</td>\n",
       "      <td>FourSeamFastball</td>\n",
       "      <td>HitIntoPlay</td>\n",
       "      <td>...</td>\n",
       "      <td>0</td>\n",
       "      <td>[{'team1': 0, 'team2': 0}, {'team1': 0, 'team2...</td>\n",
       "      <td>1</td>\n",
       "      <td>1</td>\n",
       "      <td>0</td>\n",
       "      <td>2</td>\n",
       "      <td>0</td>\n",
       "      <td>2</td>\n",
       "      <td>0</td>\n",
       "      <td>62848ee8-bff2-4410-9c61-eb672c283a60</td>\n",
       "    </tr>\n",
       "    <tr>\n",
       "      <th>4</th>\n",
       "      <td>[]</td>\n",
       "      <td>[{'time': 0.0197676, 'pos': [-3.41602776535463...</td>\n",
       "      <td>[{'event': 'First', 'time': -0.3568664, 'head'...</td>\n",
       "      <td>foot</td>\n",
       "      <td>mph</td>\n",
       "      <td>mph/s</td>\n",
       "      <td>degree</td>\n",
       "      <td>b4727ec0-5df2-48ae-baab-1dea20f53f15</td>\n",
       "      <td>Curveball</td>\n",
       "      <td>Strike</td>\n",
       "      <td>...</td>\n",
       "      <td>0</td>\n",
       "      <td>[{'team1': 0, 'team2': 0}]</td>\n",
       "      <td>0</td>\n",
       "      <td>2</td>\n",
       "      <td>0</td>\n",
       "      <td>0</td>\n",
       "      <td>0</td>\n",
       "      <td>1</td>\n",
       "      <td>1</td>\n",
       "      <td>NaN</td>\n",
       "    </tr>\n",
       "  </tbody>\n",
       "</table>\n",
       "<p>5 rows × 30 columns</p>\n",
       "</div>"
      ],
      "text/plain": [
       "                                              events  \\\n",
       "0                                                 []   \n",
       "1                                                 []   \n",
       "2  [{'start': {'angle': [27.482588965436427, 65.8...   \n",
       "3  [{'start': {'angle': [37.20027897884712, -9.14...   \n",
       "4                                                 []   \n",
       "\n",
       "                                        samples_ball  \\\n",
       "0  [{'time': 0.0206462, 'pos': [-2.78340062072433...   \n",
       "1  [{'time': 0.00387, 'pos': [-3.0194018498888253...   \n",
       "2  [{'time': 0.0069402, 'pos': [-2.59684931578240...   \n",
       "3  [{'time': 0.0226918, 'pos': [-2.26856730788878...   \n",
       "4  [{'time': 0.0197676, 'pos': [-3.41602776535463...   \n",
       "\n",
       "                                         samples_bat units.length  \\\n",
       "0                                  [{'event': 'No'}]         foot   \n",
       "1  [{'event': 'First', 'time': -0.4092641, 'head'...         foot   \n",
       "2  [{'event': 'First', 'time': -0.3827868, 'head'...         foot   \n",
       "3  [{'event': 'First', 'time': -0.4404741, 'head'...         foot   \n",
       "4  [{'event': 'First', 'time': -0.3568664, 'head'...         foot   \n",
       "\n",
       "  units.velocity units.acceleration units.angle  \\\n",
       "0            mph              mph/s      degree   \n",
       "1            mph              mph/s      degree   \n",
       "2            mph              mph/s      degree   \n",
       "3            mph              mph/s      degree   \n",
       "4            mph              mph/s      degree   \n",
       "\n",
       "             summary_acts.pitch.eventId summary_acts.pitch.type  \\\n",
       "0  54e48da8-67a0-46a4-bf51-c75170a07411                  Sinker   \n",
       "1  f1c5834c-ba80-419b-883f-56b665cb2e79                  Sinker   \n",
       "2  ac29b4ab-63bc-4672-a29c-f4517fd03c85                Changeup   \n",
       "3  8efde6c7-6ab0-40aa-a197-c1ad42bb7ee7        FourSeamFastball   \n",
       "4  b4727ec0-5df2-48ae-baab-1dea20f53f15               Curveball   \n",
       "\n",
       "  summary_acts.pitch.result  ... summary_score.runs.game.team2  \\\n",
       "0                    Strike  ...                             0   \n",
       "1                    Strike  ...                             0   \n",
       "2               HitIntoPlay  ...                             0   \n",
       "3               HitIntoPlay  ...                             0   \n",
       "4                    Strike  ...                             0   \n",
       "\n",
       "                          summary_score.runs.innings  summary_score.runs.play  \\\n",
       "0  [{'team1': 0, 'team2': 0}, {'team1': 0, 'team2...                        0   \n",
       "1  [{'team1': 0, 'team2': 0}, {'team1': 0, 'team2...                        0   \n",
       "2  [{'team1': 0, 'team2': 0}, {'team1': 0, 'team2...                        0   \n",
       "3  [{'team1': 0, 'team2': 0}, {'team1': 0, 'team2...                        1   \n",
       "4                         [{'team1': 0, 'team2': 0}]                        0   \n",
       "\n",
       "   summary_score.outs.inning  summary_score.outs.play  \\\n",
       "0                          2                        0   \n",
       "1                          0                        0   \n",
       "2                          1                        1   \n",
       "3                          1                        0   \n",
       "4                          2                        0   \n",
       "\n",
       "   summary_score.count.balls.plateAppearance  summary_score.count.balls.play  \\\n",
       "0                                          0                               0   \n",
       "1                                          0                               0   \n",
       "2                                          2                               0   \n",
       "3                                          2                               0   \n",
       "4                                          0                               0   \n",
       "\n",
       "   summary_score.count.strikes.plateAppearance  \\\n",
       "0                                            0   \n",
       "1                                            1   \n",
       "2                                            1   \n",
       "3                                            2   \n",
       "4                                            1   \n",
       "\n",
       "   summary_score.count.strikes.play              summary_acts.hit.eventId  \n",
       "0                                 1                                   NaN  \n",
       "1                                 1                                   NaN  \n",
       "2                                 0  daf9742c-869c-4370-9d66-59e217be1c89  \n",
       "3                                 0  62848ee8-bff2-4410-9c61-eb672c283a60  \n",
       "4                                 1                                   NaN  \n",
       "\n",
       "[5 rows x 30 columns]"
      ]
     },
     "execution_count": 3,
     "metadata": {},
     "output_type": "execute_result"
    }
   ],
   "source": [
    "df = pd.json_normalize(data_list)\n",
    "df.head()"
   ]
  },
  {
   "cell_type": "code",
   "execution_count": null,
   "metadata": {},
   "outputs": [
    {
     "data": {
      "text/plain": [
       "1251"
      ]
     },
     "execution_count": 29,
     "metadata": {},
     "output_type": "execute_result"
    }
   ],
   "source": [
    "len(df)"
   ]
  },
  {
   "cell_type": "code",
   "execution_count": null,
   "metadata": {},
   "outputs": [
    {
     "data": {
      "text/plain": [
       "events                                          object\n",
       "samples_ball                                    object\n",
       "samples_bat                                     object\n",
       "units.length                                    object\n",
       "units.velocity                                  object\n",
       "units.acceleration                              object\n",
       "units.angle                                     object\n",
       "summary_acts.pitch.eventId                      object\n",
       "summary_acts.pitch.result                       object\n",
       "summary_acts.pitch.action                       object\n",
       "summary_acts.pitch.speed.mph                   float64\n",
       "summary_acts.pitch.speed.kph                   float64\n",
       "summary_acts.pitch.speed.mps                   float64\n",
       "summary_acts.pitch.spin.rpm                    float64\n",
       "summary_acts.hit.speed.mph                     float64\n",
       "summary_acts.hit.speed.kph                     float64\n",
       "summary_acts.hit.speed.mps                     float64\n",
       "summary_acts.hit.spin.rpm                      float64\n",
       "summary_score.runs.game.team1                    int64\n",
       "summary_score.runs.game.team2                    int64\n",
       "summary_score.runs.innings                      object\n",
       "summary_score.runs.play                          int64\n",
       "summary_score.outs.inning                        int64\n",
       "summary_score.outs.play                          int64\n",
       "summary_score.count.balls.plateAppearance        int64\n",
       "summary_score.count.balls.play                   int64\n",
       "summary_score.count.strikes.plateAppearance      int64\n",
       "summary_score.count.strikes.play                 int64\n",
       "summary_acts.pitch.type                         object\n",
       "summary_acts.hit.eventId                        object\n",
       "dtype: object"
      ]
     },
     "execution_count": 5,
     "metadata": {},
     "output_type": "execute_result"
    }
   ],
   "source": [
    "df.dtypes"
   ]
  },
  {
   "cell_type": "code",
   "execution_count": null,
   "metadata": {},
   "outputs": [
    {
     "name": "stdout",
     "output_type": "stream",
     "text": [
      "length:  ['foot']\n",
      "velocity:  ['mph']\n",
      "acceleration:  ['mph/s']\n",
      "angle:  ['degree']\n"
     ]
    }
   ],
   "source": [
    "# check for rows with unit not foot, mph, mph/s\n",
    "print('length: ', df['units.length'].unique())\n",
    "print('velocity: ', df['units.velocity'].unique())\n",
    "print('acceleration: ', df['units.acceleration'].unique())\n",
    "print('angle: ', df['units.angle'].unique())"
   ]
  },
  {
   "cell_type": "code",
   "execution_count": null,
   "metadata": {},
   "outputs": [],
   "source": [
    "# df.to_csv('all_data.csv', index=False)"
   ]
  },
  {
   "cell_type": "markdown",
   "metadata": {},
   "source": [
    "### Find groups of hits"
   ]
  },
  {
   "cell_type": "code",
   "execution_count": 21,
   "metadata": {},
   "outputs": [],
   "source": [
    "save_dir = 'grouped_ids'"
   ]
  },
  {
   "cell_type": "code",
   "execution_count": 4,
   "metadata": {},
   "outputs": [
    {
     "name": "stdout",
     "output_type": "stream",
     "text": [
      "325\n"
     ]
    }
   ],
   "source": [
    "# filter for pitches with a hit\n",
    "hit_df = df.dropna(subset=['summary_acts.hit.eventId'], ignore_index=True)\n",
    "print(len(hit_df))"
   ]
  },
  {
   "cell_type": "code",
   "execution_count": 5,
   "metadata": {},
   "outputs": [],
   "source": [
    "# expand events column (hit details) & remove unnecessary columns\n",
    "events_df = pd.json_normalize(hit_df['events'].explode().to_list())\n",
    "events_df = events_df.add_prefix('events.')\n",
    "hit_df = hit_df.join(events_df)\n",
    "hit_df = hit_df.drop(columns=['events', 'units.length', 'units.velocity', 'units.acceleration', 'units.angle',\n",
    "                              'summary_acts.pitch.speed.kph', 'summary_acts.pitch.speed.mps', \n",
    "                              'summary_acts.hit.speed.kph', 'summary_acts.hit.speed.mps'])"
   ]
  },
  {
   "cell_type": "code",
   "execution_count": 6,
   "metadata": {},
   "outputs": [],
   "source": [
    "angle_df = pd.DataFrame(hit_df['events.start.angle'].tolist(), columns=['events.spray_angle', 'events.launch_angle'])\n",
    "hit_df = hit_df.drop(columns=['events.start.angle'])\n",
    "hit_df = pd.concat([hit_df, angle_df], axis=1)"
   ]
  },
  {
   "cell_type": "code",
   "execution_count": null,
   "metadata": {},
   "outputs": [
    {
     "data": {
      "text/plain": [
       "samples_ball                                   [{'time': -0.0046734, 'pos': [-1.0477735799342...\n",
       "samples_bat                                    [{'event': 'First', 'time': -0.3944424, 'head'...\n",
       "summary_acts.pitch.eventId                                  b120cf14-305c-442c-a739-c499bf61eec8\n",
       "summary_acts.pitch.result                                                            HitIntoPlay\n",
       "summary_acts.pitch.action                                                                    NaN\n",
       "summary_acts.pitch.speed.mph                                                                84.0\n",
       "summary_acts.pitch.spin.rpm                                                               2720.0\n",
       "summary_acts.hit.speed.mph                                                                  84.0\n",
       "summary_acts.hit.spin.rpm                                                                 1560.0\n",
       "summary_score.runs.game.team1                                                                  4\n",
       "summary_score.runs.game.team2                                                                  6\n",
       "summary_score.runs.innings                     [{'team1': 0, 'team2': 0}, {'team1': 0, 'team2...\n",
       "summary_score.runs.play                                                                        0\n",
       "summary_score.outs.inning                                                                      1\n",
       "summary_score.outs.play                                                                        1\n",
       "summary_score.count.balls.plateAppearance                                                      0\n",
       "summary_score.count.balls.play                                                                 0\n",
       "summary_score.count.strikes.plateAppearance                                                    0\n",
       "summary_score.count.strikes.play                                                               0\n",
       "summary_acts.pitch.type                                                                      NaN\n",
       "summary_acts.hit.eventId                                    22560b81-5e95-4221-9036-60b1b20ca497\n",
       "events.type                                                                                  Hit\n",
       "events.eventId                                              22560b81-5e95-4221-9036-60b1b20ca497\n",
       "events.teamId.mlbId                                                                        63813\n",
       "events.personId.mlbId                                                                  617522563\n",
       "events.spray_angle                                                                     -4.518026\n",
       "events.launch_angle                                                                    25.228142\n",
       "Name: 0, dtype: object"
      ]
     },
     "execution_count": 49,
     "metadata": {},
     "output_type": "execute_result"
    }
   ],
   "source": [
    "hit_df.iloc[0]"
   ]
  },
  {
   "cell_type": "markdown",
   "metadata": {},
   "source": [
    "#### Group by barrel"
   ]
  },
  {
   "cell_type": "markdown",
   "metadata": {},
   "source": [
    "*\"To be Barreled, a batted ball requires an exit velocity of at least 98 mph. At that speed, balls struck with a launch angle between 26-30 degrees always garner Barreled classification. For every mph over 98, the range of launch angles expands.\"* - mlb.com"
   ]
  },
  {
   "cell_type": "code",
   "execution_count": null,
   "metadata": {},
   "outputs": [
    {
     "name": "stdout",
     "output_type": "stream",
     "text": [
      "7\n",
      "     events.launch_angle  summary_acts.hit.speed.mph\n",
      "26             28.158941                        98.0\n",
      "30             28.101540                       100.0\n",
      "111            28.688241                       105.0\n",
      "188            29.320294                       100.0\n",
      "242            28.543504                        99.0\n",
      "275            28.753227                        99.0\n",
      "298            29.489962                       104.0\n"
     ]
    }
   ],
   "source": [
    "# filter to hits that fulfill above requirement\n",
    "# - launch angle: events.launch_angle\n",
    "# - exit velocity: summary_acts.hit.speed.mph\n",
    "\n",
    "barrel_df = hit_df[(hit_df['events.launch_angle'] >= 26) \n",
    "                & (hit_df['events.launch_angle'] <= 30)\n",
    "                & (hit_df['summary_acts.hit.speed.mph'] >= 98)]\n",
    "print(len(barrel_df))\n",
    "print(barrel_df[['events.launch_angle', 'summary_acts.hit.speed.mph']])"
   ]
  },
  {
   "cell_type": "code",
   "execution_count": null,
   "metadata": {},
   "outputs": [
    {
     "data": {
      "text/plain": [
       "['57d6343f-cdae-4517-acb4-ea73b838e2e9',\n",
       " 'bee9aa56-bfdd-4871-ace1-178db56aa19a',\n",
       " 'a44f0611-618d-41dd-bb9b-089140c3f317',\n",
       " '5fbf979d-ac7a-4f41-9498-2f94507ecba1',\n",
       " 'f2f58c66-ea90-42cb-8d64-2ab98fe5c64a',\n",
       " '687e2c12-dff4-4580-9226-c111366746e5',\n",
       " 'af219680-da54-4e43-8ea5-3ea020f3bc2d']"
      ]
     },
     "execution_count": 60,
     "metadata": {},
     "output_type": "execute_result"
    }
   ],
   "source": [
    "barrel_ids = list(barrel_df['events.eventId'])\n",
    "barrel_ids"
   ]
  },
  {
   "cell_type": "code",
   "execution_count": null,
   "metadata": {},
   "outputs": [
    {
     "data": {
      "text/plain": [
       "318"
      ]
     },
     "execution_count": 61,
     "metadata": {},
     "output_type": "execute_result"
    }
   ],
   "source": [
    "non_barrel_df = hit_df[(hit_df['events.launch_angle'] < 26) \n",
    "                    | (hit_df['events.launch_angle'] > 30)\n",
    "                    | (hit_df['summary_acts.hit.speed.mph'] < 98)]\n",
    "non_barrel_ids = list(non_barrel_df['events.eventId'])\n",
    "len(non_barrel_ids)"
   ]
  },
  {
   "cell_type": "code",
   "execution_count": null,
   "metadata": {},
   "outputs": [],
   "source": [
    "barrel_group = {\n",
    "    'barrel': barrel_ids,\n",
    "    'other': non_barrel_ids\n",
    "}\n",
    "with open(os.path.join(save_dir, 'by_barrel.json'), 'w') as file:\n",
    "    json.dump(barrel_group, file, indent=4)"
   ]
  },
  {
   "cell_type": "markdown",
   "metadata": {},
   "source": [
    "#### Group by pitch count (strikes)"
   ]
  },
  {
   "cell_type": "code",
   "execution_count": 18,
   "metadata": {},
   "outputs": [
    {
     "data": {
      "text/html": [
       "<div>\n",
       "<style scoped>\n",
       "    .dataframe tbody tr th:only-of-type {\n",
       "        vertical-align: middle;\n",
       "    }\n",
       "\n",
       "    .dataframe tbody tr th {\n",
       "        vertical-align: top;\n",
       "    }\n",
       "\n",
       "    .dataframe thead th {\n",
       "        text-align: right;\n",
       "    }\n",
       "</style>\n",
       "<table border=\"1\" class=\"dataframe\">\n",
       "  <thead>\n",
       "    <tr style=\"text-align: right;\">\n",
       "      <th></th>\n",
       "      <th>summary_score.count.balls.plateAppearance</th>\n",
       "      <th>summary_score.count.strikes.plateAppearance</th>\n",
       "    </tr>\n",
       "  </thead>\n",
       "  <tbody>\n",
       "    <tr>\n",
       "      <th>0</th>\n",
       "      <td>2</td>\n",
       "      <td>1</td>\n",
       "    </tr>\n",
       "    <tr>\n",
       "      <th>1</th>\n",
       "      <td>2</td>\n",
       "      <td>2</td>\n",
       "    </tr>\n",
       "    <tr>\n",
       "      <th>2</th>\n",
       "      <td>2</td>\n",
       "      <td>2</td>\n",
       "    </tr>\n",
       "    <tr>\n",
       "      <th>3</th>\n",
       "      <td>1</td>\n",
       "      <td>2</td>\n",
       "    </tr>\n",
       "    <tr>\n",
       "      <th>4</th>\n",
       "      <td>0</td>\n",
       "      <td>1</td>\n",
       "    </tr>\n",
       "    <tr>\n",
       "      <th>...</th>\n",
       "      <td>...</td>\n",
       "      <td>...</td>\n",
       "    </tr>\n",
       "    <tr>\n",
       "      <th>320</th>\n",
       "      <td>0</td>\n",
       "      <td>0</td>\n",
       "    </tr>\n",
       "    <tr>\n",
       "      <th>321</th>\n",
       "      <td>2</td>\n",
       "      <td>1</td>\n",
       "    </tr>\n",
       "    <tr>\n",
       "      <th>322</th>\n",
       "      <td>0</td>\n",
       "      <td>0</td>\n",
       "    </tr>\n",
       "    <tr>\n",
       "      <th>323</th>\n",
       "      <td>1</td>\n",
       "      <td>2</td>\n",
       "    </tr>\n",
       "    <tr>\n",
       "      <th>324</th>\n",
       "      <td>0</td>\n",
       "      <td>0</td>\n",
       "    </tr>\n",
       "  </tbody>\n",
       "</table>\n",
       "<p>325 rows × 2 columns</p>\n",
       "</div>"
      ],
      "text/plain": [
       "     summary_score.count.balls.plateAppearance  \\\n",
       "0                                            2   \n",
       "1                                            2   \n",
       "2                                            2   \n",
       "3                                            1   \n",
       "4                                            0   \n",
       "..                                         ...   \n",
       "320                                          0   \n",
       "321                                          2   \n",
       "322                                          0   \n",
       "323                                          1   \n",
       "324                                          0   \n",
       "\n",
       "     summary_score.count.strikes.plateAppearance  \n",
       "0                                              1  \n",
       "1                                              2  \n",
       "2                                              2  \n",
       "3                                              2  \n",
       "4                                              1  \n",
       "..                                           ...  \n",
       "320                                            0  \n",
       "321                                            1  \n",
       "322                                            0  \n",
       "323                                            2  \n",
       "324                                            0  \n",
       "\n",
       "[325 rows x 2 columns]"
      ]
     },
     "execution_count": 18,
     "metadata": {},
     "output_type": "execute_result"
    }
   ],
   "source": [
    "hit_df[['summary_score.count.balls.plateAppearance', \n",
    "        'summary_score.count.strikes.plateAppearance']]"
   ]
  },
  {
   "cell_type": "code",
   "execution_count": 35,
   "metadata": {},
   "outputs": [
    {
     "data": {
      "text/html": [
       "<div>\n",
       "<style scoped>\n",
       "    .dataframe tbody tr th:only-of-type {\n",
       "        vertical-align: middle;\n",
       "    }\n",
       "\n",
       "    .dataframe tbody tr th {\n",
       "        vertical-align: top;\n",
       "    }\n",
       "\n",
       "    .dataframe thead th {\n",
       "        text-align: right;\n",
       "    }\n",
       "</style>\n",
       "<table border=\"1\" class=\"dataframe\">\n",
       "  <thead>\n",
       "    <tr style=\"text-align: right;\">\n",
       "      <th></th>\n",
       "      <th>summary_score.count.strikes.plateAppearance</th>\n",
       "      <th>events.eventId</th>\n",
       "    </tr>\n",
       "  </thead>\n",
       "  <tbody>\n",
       "    <tr>\n",
       "      <th>0</th>\n",
       "      <td>0</td>\n",
       "      <td>[1c2ac927-d7e3-475d-a121-ae837139f3f8, b5ae071...</td>\n",
       "    </tr>\n",
       "    <tr>\n",
       "      <th>1</th>\n",
       "      <td>1</td>\n",
       "      <td>[daf9742c-869c-4370-9d66-59e217be1c89, 54ca7cb...</td>\n",
       "    </tr>\n",
       "    <tr>\n",
       "      <th>2</th>\n",
       "      <td>2</td>\n",
       "      <td>[62848ee8-bff2-4410-9c61-eb672c283a60, 49f533e...</td>\n",
       "    </tr>\n",
       "  </tbody>\n",
       "</table>\n",
       "</div>"
      ],
      "text/plain": [
       "   summary_score.count.strikes.plateAppearance  \\\n",
       "0                                            0   \n",
       "1                                            1   \n",
       "2                                            2   \n",
       "\n",
       "                                      events.eventId  \n",
       "0  [1c2ac927-d7e3-475d-a121-ae837139f3f8, b5ae071...  \n",
       "1  [daf9742c-869c-4370-9d66-59e217be1c89, 54ca7cb...  \n",
       "2  [62848ee8-bff2-4410-9c61-eb672c283a60, 49f533e...  "
      ]
     },
     "execution_count": 35,
     "metadata": {},
     "output_type": "execute_result"
    }
   ],
   "source": [
    "# group by strike counts at the time of plate appearance\n",
    "strikes_col = 'summary_score.count.strikes.plateAppearance'\n",
    "event_id_col = 'events.eventId'\n",
    "\n",
    "strike_ct_df = hit_df.groupby(strikes_col)[event_id_col].apply(list).reset_index()\n",
    "strike_ct_df"
   ]
  },
  {
   "cell_type": "code",
   "execution_count": 48,
   "metadata": {},
   "outputs": [],
   "source": [
    "strike_ct_dict = strike_ct_df[event_id_col].to_dict()\n",
    "with open(os.path.join(save_dir, 'by_strike_ct.json'), 'w') as file:\n",
    "    json.dump(strike_ct_dict, file, indent=4)"
   ]
  },
  {
   "cell_type": "markdown",
   "metadata": {},
   "source": [
    "## Analysis\n",
    "MLB considers the ideal launch angle as the “sweet spot launch angle”, which is between 8-32 degrees. \n",
    "https://www.mlb.com/glossary/statcast/launch-angle\n",
    "\n",
    "Our data was grouped into 3 ranges:\n",
    "1.\tLow launch angle: < 8 degrees\n",
    "2.\tIdeal launch angle: 8-32 degrees\n",
    "3.\tHigh launch angle: >32 degrees\n",
    "\n",
    "There are 3 results of a pitch, being a strike, a hitintoplay, or a ball. Strikes are not desirable to the batter because 3 strikes lead to a strikeout, but  hitintoplays and  balls are desirable to the batter since four balls allow the batter to walk to first base. \n",
    "\n",
    "Method: \n",
    "1.\tImport JSON files into Excel power query.\n",
    "2.\tParse through JSON, creating columns for pitch results and angle. \n",
    "•\tSince at bats that did not have hits were empty in “Events,” filtered out the rows that were null, then expanded “Events” to angles. \n",
    "3.\tSince launch angle is in the second index of the angles list, create a new column indicating the row indices.\n",
    "4.\tFilter out the rows with odd indices, leaving only the launch angle behind in the angles column. \n",
    "5.\tDetermine % of strikes, % of hitintoplays, and % of balls for each launch angle range. \n",
    "\n",
    "The results from the data are: \n",
    "<div><img src=\"./Picture1.png\" alt=\"Figure 1. Pitch results of low-high launch angles\" /></div>"
   ]
  }
 ],
 "metadata": {
  "kernelspec": {
   "display_name": "Python 3.11.7 64-bit",
   "language": "python",
   "name": "python3"
  },
  "language_info": {
   "codemirror_mode": {
    "name": "ipython",
    "version": 3
   },
   "file_extension": ".py",
   "mimetype": "text/x-python",
   "name": "python",
   "nbconvert_exporter": "python",
   "pygments_lexer": "ipython3",
   "version": "3.11.7"
  },
  "vscode": {
   "interpreter": {
    "hash": "b0fa6594d8f4cbf19f97940f81e996739fb7646882a419484c72d19e05852a7e"
   }
  }
 },
 "nbformat": 4,
 "nbformat_minor": 4
}
