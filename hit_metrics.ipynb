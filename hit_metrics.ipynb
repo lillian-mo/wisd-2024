{
 "cells": [
  {
   "cell_type": "code",
   "execution_count": 2,
   "metadata": {},
   "outputs": [],
   "source": [
    "import os\n",
    "import json\n",
    "import pandas as pd"
   ]
  },
  {
   "cell_type": "markdown",
   "metadata": {},
   "source": [
    "### Load data"
   ]
  },
  {
   "cell_type": "code",
   "execution_count": 3,
   "metadata": {
    "scrolled": true
   },
   "outputs": [],
   "source": [
    "data_dir = 'anonymized-files-wisd'\n",
    "data_list = []\n",
    "\n",
    "for filename in os.listdir(data_dir):\n",
    "    with open(os.path.join(data_dir, filename), 'r') as file:\n",
    "        for line in file:\n",
    "            data_list.append(json.loads(line))"
   ]
  },
  {
   "cell_type": "code",
   "execution_count": 4,
   "metadata": {},
   "outputs": [
    {
     "data": {
      "text/html": [
       "<div>\n",
       "<style scoped>\n",
       "    .dataframe tbody tr th:only-of-type {\n",
       "        vertical-align: middle;\n",
       "    }\n",
       "\n",
       "    .dataframe tbody tr th {\n",
       "        vertical-align: top;\n",
       "    }\n",
       "\n",
       "    .dataframe thead th {\n",
       "        text-align: right;\n",
       "    }\n",
       "</style>\n",
       "<table border=\"1\" class=\"dataframe\">\n",
       "  <thead>\n",
       "    <tr style=\"text-align: right;\">\n",
       "      <th></th>\n",
       "      <th>events</th>\n",
       "      <th>samples_ball</th>\n",
       "      <th>samples_bat</th>\n",
       "      <th>units.length</th>\n",
       "      <th>units.velocity</th>\n",
       "      <th>units.acceleration</th>\n",
       "      <th>units.angle</th>\n",
       "      <th>summary_acts.pitch.eventId</th>\n",
       "      <th>summary_acts.pitch.result</th>\n",
       "      <th>summary_acts.pitch.action</th>\n",
       "      <th>...</th>\n",
       "      <th>summary_score.runs.innings</th>\n",
       "      <th>summary_score.runs.play</th>\n",
       "      <th>summary_score.outs.inning</th>\n",
       "      <th>summary_score.outs.play</th>\n",
       "      <th>summary_score.count.balls.plateAppearance</th>\n",
       "      <th>summary_score.count.balls.play</th>\n",
       "      <th>summary_score.count.strikes.plateAppearance</th>\n",
       "      <th>summary_score.count.strikes.play</th>\n",
       "      <th>summary_acts.pitch.type</th>\n",
       "      <th>summary_acts.hit.eventId</th>\n",
       "    </tr>\n",
       "  </thead>\n",
       "  <tbody>\n",
       "    <tr>\n",
       "      <th>0</th>\n",
       "      <td>[]</td>\n",
       "      <td>[{'time': 0.0103363, 'pos': [-1.61897673474511...</td>\n",
       "      <td>[{'event': 'No'}]</td>\n",
       "      <td>foot</td>\n",
       "      <td>mph</td>\n",
       "      <td>mph/s</td>\n",
       "      <td>degree</td>\n",
       "      <td>0da10a0e-60ec-4714-b086-2001c7c01ed9</td>\n",
       "      <td>Ball</td>\n",
       "      <td>Called</td>\n",
       "      <td>...</td>\n",
       "      <td>[{'team1': 0, 'team2': 0}]</td>\n",
       "      <td>0</td>\n",
       "      <td>0</td>\n",
       "      <td>0</td>\n",
       "      <td>1</td>\n",
       "      <td>1</td>\n",
       "      <td>2</td>\n",
       "      <td>0</td>\n",
       "      <td>NaN</td>\n",
       "      <td>NaN</td>\n",
       "    </tr>\n",
       "    <tr>\n",
       "      <th>1</th>\n",
       "      <td>[]</td>\n",
       "      <td>[{'time': 0.0296728, 'pos': [-0.80462875757812...</td>\n",
       "      <td>[{'event': 'No'}]</td>\n",
       "      <td>foot</td>\n",
       "      <td>mph</td>\n",
       "      <td>mph/s</td>\n",
       "      <td>degree</td>\n",
       "      <td>7e78552a-4ab3-4667-a748-024841d6f9cc</td>\n",
       "      <td>Ball</td>\n",
       "      <td>Called</td>\n",
       "      <td>...</td>\n",
       "      <td>[{'team1': 0, 'team2': 0}, {'team1': 0, 'team2...</td>\n",
       "      <td>0</td>\n",
       "      <td>1</td>\n",
       "      <td>0</td>\n",
       "      <td>0</td>\n",
       "      <td>1</td>\n",
       "      <td>0</td>\n",
       "      <td>0</td>\n",
       "      <td>NaN</td>\n",
       "      <td>NaN</td>\n",
       "    </tr>\n",
       "    <tr>\n",
       "      <th>2</th>\n",
       "      <td>[]</td>\n",
       "      <td>[{'time': 0.0382683, 'pos': [-1.08782534756770...</td>\n",
       "      <td>[{'event': 'No'}]</td>\n",
       "      <td>foot</td>\n",
       "      <td>mph</td>\n",
       "      <td>mph/s</td>\n",
       "      <td>degree</td>\n",
       "      <td>ae2f8cfe-934d-486d-86f9-b05b6dcc8ffb</td>\n",
       "      <td>Ball</td>\n",
       "      <td>Called</td>\n",
       "      <td>...</td>\n",
       "      <td>[{'team1': 1, 'team2': 0}, {'team1': 0, 'team2...</td>\n",
       "      <td>0</td>\n",
       "      <td>1</td>\n",
       "      <td>0</td>\n",
       "      <td>0</td>\n",
       "      <td>1</td>\n",
       "      <td>0</td>\n",
       "      <td>0</td>\n",
       "      <td>NaN</td>\n",
       "      <td>NaN</td>\n",
       "    </tr>\n",
       "    <tr>\n",
       "      <th>3</th>\n",
       "      <td>[]</td>\n",
       "      <td>[{'time': 0.0430903, 'pos': [-1.08296228279852...</td>\n",
       "      <td>[{'event': 'First', 'time': -0.430037700000000...</td>\n",
       "      <td>foot</td>\n",
       "      <td>mph</td>\n",
       "      <td>mph/s</td>\n",
       "      <td>degree</td>\n",
       "      <td>58e88a96-6f8a-4d37-894c-2f57ebad50e8</td>\n",
       "      <td>Ball</td>\n",
       "      <td>Called</td>\n",
       "      <td>...</td>\n",
       "      <td>[{'team1': 0, 'team2': 0}, {'team1': 0, 'team2...</td>\n",
       "      <td>0</td>\n",
       "      <td>2</td>\n",
       "      <td>0</td>\n",
       "      <td>2</td>\n",
       "      <td>1</td>\n",
       "      <td>2</td>\n",
       "      <td>0</td>\n",
       "      <td>NaN</td>\n",
       "      <td>NaN</td>\n",
       "    </tr>\n",
       "    <tr>\n",
       "      <th>4</th>\n",
       "      <td>[]</td>\n",
       "      <td>[{'time': 0.0369063, 'pos': [-1.50433512772240...</td>\n",
       "      <td>[{'event': 'No'}]</td>\n",
       "      <td>foot</td>\n",
       "      <td>mph</td>\n",
       "      <td>mph/s</td>\n",
       "      <td>degree</td>\n",
       "      <td>5f2aa62c-727d-4da3-82ef-0810a75dcba5</td>\n",
       "      <td>Ball</td>\n",
       "      <td>Called</td>\n",
       "      <td>...</td>\n",
       "      <td>[{'team1': 0, 'team2': 0}, {'team1': 0, 'team2...</td>\n",
       "      <td>0</td>\n",
       "      <td>2</td>\n",
       "      <td>0</td>\n",
       "      <td>0</td>\n",
       "      <td>1</td>\n",
       "      <td>0</td>\n",
       "      <td>0</td>\n",
       "      <td>Sinker</td>\n",
       "      <td>NaN</td>\n",
       "    </tr>\n",
       "  </tbody>\n",
       "</table>\n",
       "<p>5 rows × 30 columns</p>\n",
       "</div>"
      ],
      "text/plain": [
       "  events                                       samples_ball  \\\n",
       "0     []  [{'time': 0.0103363, 'pos': [-1.61897673474511...   \n",
       "1     []  [{'time': 0.0296728, 'pos': [-0.80462875757812...   \n",
       "2     []  [{'time': 0.0382683, 'pos': [-1.08782534756770...   \n",
       "3     []  [{'time': 0.0430903, 'pos': [-1.08296228279852...   \n",
       "4     []  [{'time': 0.0369063, 'pos': [-1.50433512772240...   \n",
       "\n",
       "                                         samples_bat units.length  \\\n",
       "0                                  [{'event': 'No'}]         foot   \n",
       "1                                  [{'event': 'No'}]         foot   \n",
       "2                                  [{'event': 'No'}]         foot   \n",
       "3  [{'event': 'First', 'time': -0.430037700000000...         foot   \n",
       "4                                  [{'event': 'No'}]         foot   \n",
       "\n",
       "  units.velocity units.acceleration units.angle  \\\n",
       "0            mph              mph/s      degree   \n",
       "1            mph              mph/s      degree   \n",
       "2            mph              mph/s      degree   \n",
       "3            mph              mph/s      degree   \n",
       "4            mph              mph/s      degree   \n",
       "\n",
       "             summary_acts.pitch.eventId summary_acts.pitch.result  \\\n",
       "0  0da10a0e-60ec-4714-b086-2001c7c01ed9                      Ball   \n",
       "1  7e78552a-4ab3-4667-a748-024841d6f9cc                      Ball   \n",
       "2  ae2f8cfe-934d-486d-86f9-b05b6dcc8ffb                      Ball   \n",
       "3  58e88a96-6f8a-4d37-894c-2f57ebad50e8                      Ball   \n",
       "4  5f2aa62c-727d-4da3-82ef-0810a75dcba5                      Ball   \n",
       "\n",
       "  summary_acts.pitch.action  ...  \\\n",
       "0                    Called  ...   \n",
       "1                    Called  ...   \n",
       "2                    Called  ...   \n",
       "3                    Called  ...   \n",
       "4                    Called  ...   \n",
       "\n",
       "                          summary_score.runs.innings  summary_score.runs.play  \\\n",
       "0                         [{'team1': 0, 'team2': 0}]                        0   \n",
       "1  [{'team1': 0, 'team2': 0}, {'team1': 0, 'team2...                        0   \n",
       "2  [{'team1': 1, 'team2': 0}, {'team1': 0, 'team2...                        0   \n",
       "3  [{'team1': 0, 'team2': 0}, {'team1': 0, 'team2...                        0   \n",
       "4  [{'team1': 0, 'team2': 0}, {'team1': 0, 'team2...                        0   \n",
       "\n",
       "   summary_score.outs.inning  summary_score.outs.play  \\\n",
       "0                          0                        0   \n",
       "1                          1                        0   \n",
       "2                          1                        0   \n",
       "3                          2                        0   \n",
       "4                          2                        0   \n",
       "\n",
       "   summary_score.count.balls.plateAppearance  summary_score.count.balls.play  \\\n",
       "0                                          1                               1   \n",
       "1                                          0                               1   \n",
       "2                                          0                               1   \n",
       "3                                          2                               1   \n",
       "4                                          0                               1   \n",
       "\n",
       "   summary_score.count.strikes.plateAppearance  \\\n",
       "0                                            2   \n",
       "1                                            0   \n",
       "2                                            0   \n",
       "3                                            2   \n",
       "4                                            0   \n",
       "\n",
       "   summary_score.count.strikes.play  summary_acts.pitch.type  \\\n",
       "0                                 0                      NaN   \n",
       "1                                 0                      NaN   \n",
       "2                                 0                      NaN   \n",
       "3                                 0                      NaN   \n",
       "4                                 0                   Sinker   \n",
       "\n",
       "   summary_acts.hit.eventId  \n",
       "0                       NaN  \n",
       "1                       NaN  \n",
       "2                       NaN  \n",
       "3                       NaN  \n",
       "4                       NaN  \n",
       "\n",
       "[5 rows x 30 columns]"
      ]
     },
     "execution_count": 4,
     "metadata": {},
     "output_type": "execute_result"
    }
   ],
   "source": [
    "df = pd.json_normalize(data_list)\n",
    "df.head()"
   ]
  },
  {
   "cell_type": "code",
   "execution_count": 8,
   "metadata": {},
   "outputs": [
    {
     "data": {
      "text/plain": [
       "events                                          object\n",
       "samples_ball                                    object\n",
       "samples_bat                                     object\n",
       "units.length                                    object\n",
       "units.velocity                                  object\n",
       "units.acceleration                              object\n",
       "units.angle                                     object\n",
       "summary_acts.pitch.eventId                      object\n",
       "summary_acts.pitch.result                       object\n",
       "summary_acts.pitch.action                       object\n",
       "summary_acts.pitch.speed.mph                   float64\n",
       "summary_acts.pitch.speed.kph                   float64\n",
       "summary_acts.pitch.speed.mps                   float64\n",
       "summary_acts.pitch.spin.rpm                    float64\n",
       "summary_acts.hit.speed.mph                     float64\n",
       "summary_acts.hit.speed.kph                     float64\n",
       "summary_acts.hit.speed.mps                     float64\n",
       "summary_acts.hit.spin.rpm                      float64\n",
       "summary_score.runs.game.team1                    int64\n",
       "summary_score.runs.game.team2                    int64\n",
       "summary_score.runs.innings                      object\n",
       "summary_score.runs.play                          int64\n",
       "summary_score.outs.inning                        int64\n",
       "summary_score.outs.play                          int64\n",
       "summary_score.count.balls.plateAppearance        int64\n",
       "summary_score.count.balls.play                   int64\n",
       "summary_score.count.strikes.plateAppearance      int64\n",
       "summary_score.count.strikes.play                 int64\n",
       "summary_acts.pitch.type                         object\n",
       "summary_acts.hit.eventId                        object\n",
       "dtype: object"
      ]
     },
     "execution_count": 8,
     "metadata": {},
     "output_type": "execute_result"
    }
   ],
   "source": [
    "df.dtypes"
   ]
  },
  {
   "cell_type": "code",
   "execution_count": 12,
   "metadata": {},
   "outputs": [
    {
     "name": "stdout",
     "output_type": "stream",
     "text": [
      "length:  ['foot']\n",
      "velocity:  ['mph']\n",
      "acceleration:  ['mph/s']\n",
      "angle:  ['degree']\n"
     ]
    }
   ],
   "source": [
    "# check for rows with unit not foot, mph, mph/s\n",
    "print('length: ', df['units.length'].unique())\n",
    "print('velocity: ', df['units.velocity'].unique())\n",
    "print('acceleration: ', df['units.acceleration'].unique())\n",
    "print('angle: ', df['units.angle'].unique())"
   ]
  },
  {
   "cell_type": "code",
   "execution_count": 15,
   "metadata": {},
   "outputs": [
    {
     "data": {
      "text/html": [
       "<div>\n",
       "<style scoped>\n",
       "    .dataframe tbody tr th:only-of-type {\n",
       "        vertical-align: middle;\n",
       "    }\n",
       "\n",
       "    .dataframe tbody tr th {\n",
       "        vertical-align: top;\n",
       "    }\n",
       "\n",
       "    .dataframe thead th {\n",
       "        text-align: right;\n",
       "    }\n",
       "</style>\n",
       "<table border=\"1\" class=\"dataframe\">\n",
       "  <thead>\n",
       "    <tr style=\"text-align: right;\">\n",
       "      <th></th>\n",
       "      <th>units</th>\n",
       "      <th>summary_acts</th>\n",
       "      <th>summary_score</th>\n",
       "      <th>events</th>\n",
       "      <th>samples_ball</th>\n",
       "      <th>samples_bat</th>\n",
       "    </tr>\n",
       "  </thead>\n",
       "  <tbody>\n",
       "    <tr>\n",
       "      <th>0</th>\n",
       "      <td>{'length': 'foot', 'velocity': 'mph', 'acceler...</td>\n",
       "      <td>{'pitch': {'eventId': '0da10a0e-60ec-4714-b086...</td>\n",
       "      <td>{'runs': {'game': {'team1': 0, 'team2': 0}, 'i...</td>\n",
       "      <td>[]</td>\n",
       "      <td>[{'time': 0.0103363, 'pos': [-1.61897673474511...</td>\n",
       "      <td>[{'event': 'No'}]</td>\n",
       "    </tr>\n",
       "    <tr>\n",
       "      <th>1</th>\n",
       "      <td>{'length': 'foot', 'velocity': 'mph', 'acceler...</td>\n",
       "      <td>{'pitch': {'eventId': '7e78552a-4ab3-4667-a748...</td>\n",
       "      <td>{'runs': {'game': {'team1': 1, 'team2': 0}, 'i...</td>\n",
       "      <td>[]</td>\n",
       "      <td>[{'time': 0.0296728, 'pos': [-0.80462875757812...</td>\n",
       "      <td>[{'event': 'No'}]</td>\n",
       "    </tr>\n",
       "    <tr>\n",
       "      <th>2</th>\n",
       "      <td>{'length': 'foot', 'velocity': 'mph', 'acceler...</td>\n",
       "      <td>{'pitch': {'eventId': 'ae2f8cfe-934d-486d-86f9...</td>\n",
       "      <td>{'runs': {'game': {'team1': 1, 'team2': 0}, 'i...</td>\n",
       "      <td>[]</td>\n",
       "      <td>[{'time': 0.0382683, 'pos': [-1.08782534756770...</td>\n",
       "      <td>[{'event': 'No'}]</td>\n",
       "    </tr>\n",
       "    <tr>\n",
       "      <th>3</th>\n",
       "      <td>{'length': 'foot', 'velocity': 'mph', 'acceler...</td>\n",
       "      <td>{'pitch': {'eventId': '58e88a96-6f8a-4d37-894c...</td>\n",
       "      <td>{'runs': {'game': {'team1': 1, 'team2': 3}, 'i...</td>\n",
       "      <td>[]</td>\n",
       "      <td>[{'time': 0.0430903, 'pos': [-1.08296228279852...</td>\n",
       "      <td>[{'event': 'First', 'time': -0.430037700000000...</td>\n",
       "    </tr>\n",
       "    <tr>\n",
       "      <th>4</th>\n",
       "      <td>{'length': 'foot', 'velocity': 'mph', 'acceler...</td>\n",
       "      <td>{'pitch': {'eventId': '5f2aa62c-727d-4da3-82ef...</td>\n",
       "      <td>{'runs': {'game': {'team1': 9, 'team2': 0}, 'i...</td>\n",
       "      <td>[]</td>\n",
       "      <td>[{'time': 0.0369063, 'pos': [-1.50433512772240...</td>\n",
       "      <td>[{'event': 'No'}]</td>\n",
       "    </tr>\n",
       "  </tbody>\n",
       "</table>\n",
       "</div>"
      ],
      "text/plain": [
       "                                               units  \\\n",
       "0  {'length': 'foot', 'velocity': 'mph', 'acceler...   \n",
       "1  {'length': 'foot', 'velocity': 'mph', 'acceler...   \n",
       "2  {'length': 'foot', 'velocity': 'mph', 'acceler...   \n",
       "3  {'length': 'foot', 'velocity': 'mph', 'acceler...   \n",
       "4  {'length': 'foot', 'velocity': 'mph', 'acceler...   \n",
       "\n",
       "                                        summary_acts  \\\n",
       "0  {'pitch': {'eventId': '0da10a0e-60ec-4714-b086...   \n",
       "1  {'pitch': {'eventId': '7e78552a-4ab3-4667-a748...   \n",
       "2  {'pitch': {'eventId': 'ae2f8cfe-934d-486d-86f9...   \n",
       "3  {'pitch': {'eventId': '58e88a96-6f8a-4d37-894c...   \n",
       "4  {'pitch': {'eventId': '5f2aa62c-727d-4da3-82ef...   \n",
       "\n",
       "                                       summary_score events  \\\n",
       "0  {'runs': {'game': {'team1': 0, 'team2': 0}, 'i...     []   \n",
       "1  {'runs': {'game': {'team1': 1, 'team2': 0}, 'i...     []   \n",
       "2  {'runs': {'game': {'team1': 1, 'team2': 0}, 'i...     []   \n",
       "3  {'runs': {'game': {'team1': 1, 'team2': 3}, 'i...     []   \n",
       "4  {'runs': {'game': {'team1': 9, 'team2': 0}, 'i...     []   \n",
       "\n",
       "                                        samples_ball  \\\n",
       "0  [{'time': 0.0103363, 'pos': [-1.61897673474511...   \n",
       "1  [{'time': 0.0296728, 'pos': [-0.80462875757812...   \n",
       "2  [{'time': 0.0382683, 'pos': [-1.08782534756770...   \n",
       "3  [{'time': 0.0430903, 'pos': [-1.08296228279852...   \n",
       "4  [{'time': 0.0369063, 'pos': [-1.50433512772240...   \n",
       "\n",
       "                                         samples_bat  \n",
       "0                                  [{'event': 'No'}]  \n",
       "1                                  [{'event': 'No'}]  \n",
       "2                                  [{'event': 'No'}]  \n",
       "3  [{'event': 'First', 'time': -0.430037700000000...  \n",
       "4                                  [{'event': 'No'}]  "
      ]
     },
     "execution_count": 15,
     "metadata": {},
     "output_type": "execute_result"
    }
   ],
   "source": [
    "# another way to load data?\n",
    "non_flat_df = pd.DataFrame(data_list)\n",
    "non_flat_df.head()"
   ]
  },
  {
   "cell_type": "code",
   "execution_count": 16,
   "metadata": {},
   "outputs": [
    {
     "name": "stdout",
     "output_type": "stream",
     "text": [
      "1251\n",
      "1251\n"
     ]
    }
   ],
   "source": [
    "print(len(df))\n",
    "print(len(non_flat_df))"
   ]
  },
  {
   "cell_type": "markdown",
   "metadata": {},
   "source": [
    "### Find metrics for hit"
   ]
  },
  {
   "cell_type": "code",
   "execution_count": 74,
   "metadata": {},
   "outputs": [
    {
     "name": "stdout",
     "output_type": "stream",
     "text": [
      "325\n"
     ]
    }
   ],
   "source": [
    "# filter for pitches with a hit\n",
    "hit_df = df.dropna(subset=['summary_acts.hit.eventId'], ignore_index=True)\n",
    "print(len(hit_df))"
   ]
  },
  {
   "cell_type": "markdown",
   "metadata": {},
   "source": [
    "metrics required to determine if a hit was a barrel\n",
    "- launch angle\n",
    "- exit velocity"
   ]
  },
  {
   "cell_type": "code",
   "execution_count": 75,
   "metadata": {},
   "outputs": [],
   "source": [
    "# expand events column (hit details) & remove unnecessary columns\n",
    "events_df = pd.json_normalize(hit_df['events'].explode().to_list())\n",
    "events_df = events_df.add_prefix('events.')\n",
    "hit_df = hit_df.join(events_df)\n",
    "hit_df = hit_df.drop(columns=['events', 'units.length', 'units.velocity', 'units.acceleration', 'units.angle',\n",
    "                              'summary_acts.pitch.speed.kph', 'summary_acts.pitch.speed.mps', \n",
    "                              'summary_acts.hit.speed.kph', 'summary_acts.hit.speed.mps'])"
   ]
  },
  {
   "cell_type": "code",
   "execution_count": 81,
   "metadata": {},
   "outputs": [],
   "source": [
    "angle_df = pd.DataFrame(hit_df['events.start.angle'].tolist(), columns=['events.spray_angle', 'events.launch_angle'])\n",
    "hit_df = hit_df.drop(columns=['events.start.angle'])\n",
    "hit_df = pd.concat([hit_df, angle_df], axis=1)"
   ]
  },
  {
   "cell_type": "code",
   "execution_count": 82,
   "metadata": {},
   "outputs": [
    {
     "data": {
      "text/plain": [
       "samples_ball                                   [{'time': -0.0046734, 'pos': [-1.0477735799342...\n",
       "samples_bat                                    [{'event': 'First', 'time': -0.3944424, 'head'...\n",
       "summary_acts.pitch.eventId                                  b120cf14-305c-442c-a739-c499bf61eec8\n",
       "summary_acts.pitch.result                                                            HitIntoPlay\n",
       "summary_acts.pitch.action                                                                    NaN\n",
       "summary_acts.pitch.speed.mph                                                                84.0\n",
       "summary_acts.pitch.spin.rpm                                                               2720.0\n",
       "summary_acts.hit.speed.mph                                                                  84.0\n",
       "summary_acts.hit.spin.rpm                                                                 1560.0\n",
       "summary_score.runs.game.team1                                                                  4\n",
       "summary_score.runs.game.team2                                                                  6\n",
       "summary_score.runs.innings                     [{'team1': 0, 'team2': 0}, {'team1': 0, 'team2...\n",
       "summary_score.runs.play                                                                        0\n",
       "summary_score.outs.inning                                                                      1\n",
       "summary_score.outs.play                                                                        1\n",
       "summary_score.count.balls.plateAppearance                                                      0\n",
       "summary_score.count.balls.play                                                                 0\n",
       "summary_score.count.strikes.plateAppearance                                                    0\n",
       "summary_score.count.strikes.play                                                               0\n",
       "summary_acts.pitch.type                                                                      NaN\n",
       "summary_acts.hit.eventId                                    22560b81-5e95-4221-9036-60b1b20ca497\n",
       "events.type                                                                                  Hit\n",
       "events.eventId                                              22560b81-5e95-4221-9036-60b1b20ca497\n",
       "events.teamId.mlbId                                                                        63813\n",
       "events.personId.mlbId                                                                  617522563\n",
       "events.spray_angle                                                                     -4.518026\n",
       "events.launch_angle                                                                    25.228142\n",
       "Name: 0, dtype: object"
      ]
     },
     "execution_count": 82,
     "metadata": {},
     "output_type": "execute_result"
    }
   ],
   "source": [
    "hit_df.iloc[0]"
   ]
  },
  {
   "cell_type": "code",
   "execution_count": 29,
   "metadata": {},
   "outputs": [
    {
     "data": {
      "text/plain": [
       "[{'start': {'angle': [-24.99839701395031, 3.2914346803695023]},\n",
       "  'type': 'Hit',\n",
       "  'teamId': {'mlbId': 90068},\n",
       "  'personId': {'mlbId': 485007791},\n",
       "  'eventId': 'ca663ed8-d834-4957-93db-e98c28270b6a'}]"
      ]
     },
     "execution_count": 29,
     "metadata": {},
     "output_type": "execute_result"
    }
   ],
   "source": [
    "# launch angle: events.launch_angle\n",
    "# exit velocity: summary_acts.hit.speed"
   ]
  }
 ],
 "metadata": {
  "kernelspec": {
   "display_name": "Python 3 (ipykernel)",
   "language": "python",
   "name": "python3"
  },
  "language_info": {
   "codemirror_mode": {
    "name": "ipython",
    "version": 3
   },
   "file_extension": ".py",
   "mimetype": "text/x-python",
   "name": "python",
   "nbconvert_exporter": "python",
   "pygments_lexer": "ipython3",
   "version": "3.12.4"
  }
 },
 "nbformat": 4,
 "nbformat_minor": 4
}
