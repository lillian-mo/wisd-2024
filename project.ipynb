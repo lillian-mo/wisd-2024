{
 "cells": [
  {
   "cell_type": "markdown",
   "metadata": {},
   "source": [
    "# Optimal Launch Angle and Barrels\n",
    "For our 2024 WISD Hackathon project, we decided to analyze the ideal launch angle of the data given, as it relates to barrels. We did this by graphing out the bat path and trajectory for ideal swings."
   ]
  },
  {
   "cell_type": "code",
   "execution_count": 144,
   "metadata": {},
   "outputs": [],
   "source": [
    "import os\n",
    "import numpy as np\n",
    "import json\n",
    "import pandas as pd\n",
    "from pandas import DataFrame\n",
    "from IPython.display import Image"
   ]
  },
  {
   "cell_type": "markdown",
   "metadata": {},
   "source": [
    "### Load data"
   ]
  },
  {
   "cell_type": "code",
   "execution_count": 145,
   "metadata": {
    "scrolled": true
   },
   "outputs": [],
   "source": [
    "data_dir = 'anonymized-files-wisd' # this is what the file for the private data in our directory was\n",
    "data_list = []\n",
    "\n",
    "for filename in os.listdir(data_dir):\n",
    "    with open(os.path.join(data_dir, filename), 'r') as file:\n",
    "        for line in file:\n",
    "            data_list.append(json.loads(line))"
   ]
  },
  {
   "cell_type": "code",
   "execution_count": 146,
   "metadata": {},
   "outputs": [
    {
     "data": {
      "text/html": [
       "<div>\n",
       "<style scoped>\n",
       "    .dataframe tbody tr th:only-of-type {\n",
       "        vertical-align: middle;\n",
       "    }\n",
       "\n",
       "    .dataframe tbody tr th {\n",
       "        vertical-align: top;\n",
       "    }\n",
       "\n",
       "    .dataframe thead th {\n",
       "        text-align: right;\n",
       "    }\n",
       "</style>\n",
       "<table border=\"1\" class=\"dataframe\">\n",
       "  <thead>\n",
       "    <tr style=\"text-align: right;\">\n",
       "      <th></th>\n",
       "      <th>events</th>\n",
       "      <th>samples_ball</th>\n",
       "      <th>samples_bat</th>\n",
       "      <th>units.length</th>\n",
       "      <th>units.velocity</th>\n",
       "      <th>units.acceleration</th>\n",
       "      <th>units.angle</th>\n",
       "      <th>summary_acts.pitch.eventId</th>\n",
       "      <th>summary_acts.pitch.result</th>\n",
       "      <th>summary_acts.pitch.action</th>\n",
       "      <th>...</th>\n",
       "      <th>summary_score.runs.innings</th>\n",
       "      <th>summary_score.runs.play</th>\n",
       "      <th>summary_score.outs.inning</th>\n",
       "      <th>summary_score.outs.play</th>\n",
       "      <th>summary_score.count.balls.plateAppearance</th>\n",
       "      <th>summary_score.count.balls.play</th>\n",
       "      <th>summary_score.count.strikes.plateAppearance</th>\n",
       "      <th>summary_score.count.strikes.play</th>\n",
       "      <th>summary_acts.pitch.type</th>\n",
       "      <th>summary_acts.hit.eventId</th>\n",
       "    </tr>\n",
       "  </thead>\n",
       "  <tbody>\n",
       "    <tr>\n",
       "      <th>0</th>\n",
       "      <td>[]</td>\n",
       "      <td>[{'time': 0.0103363, 'pos': [-1.61897673474511...</td>\n",
       "      <td>[{'event': 'No'}]</td>\n",
       "      <td>foot</td>\n",
       "      <td>mph</td>\n",
       "      <td>mph/s</td>\n",
       "      <td>degree</td>\n",
       "      <td>0da10a0e-60ec-4714-b086-2001c7c01ed9</td>\n",
       "      <td>Ball</td>\n",
       "      <td>Called</td>\n",
       "      <td>...</td>\n",
       "      <td>[{'team1': 0, 'team2': 0}]</td>\n",
       "      <td>0</td>\n",
       "      <td>0</td>\n",
       "      <td>0</td>\n",
       "      <td>1</td>\n",
       "      <td>1</td>\n",
       "      <td>2</td>\n",
       "      <td>0</td>\n",
       "      <td>NaN</td>\n",
       "      <td>NaN</td>\n",
       "    </tr>\n",
       "    <tr>\n",
       "      <th>1</th>\n",
       "      <td>[]</td>\n",
       "      <td>[{'time': 0.0296728, 'pos': [-0.80462875757812...</td>\n",
       "      <td>[{'event': 'No'}]</td>\n",
       "      <td>foot</td>\n",
       "      <td>mph</td>\n",
       "      <td>mph/s</td>\n",
       "      <td>degree</td>\n",
       "      <td>7e78552a-4ab3-4667-a748-024841d6f9cc</td>\n",
       "      <td>Ball</td>\n",
       "      <td>Called</td>\n",
       "      <td>...</td>\n",
       "      <td>[{'team1': 0, 'team2': 0}, {'team1': 0, 'team2...</td>\n",
       "      <td>0</td>\n",
       "      <td>1</td>\n",
       "      <td>0</td>\n",
       "      <td>0</td>\n",
       "      <td>1</td>\n",
       "      <td>0</td>\n",
       "      <td>0</td>\n",
       "      <td>NaN</td>\n",
       "      <td>NaN</td>\n",
       "    </tr>\n",
       "    <tr>\n",
       "      <th>2</th>\n",
       "      <td>[]</td>\n",
       "      <td>[{'time': 0.0382683, 'pos': [-1.08782534756770...</td>\n",
       "      <td>[{'event': 'No'}]</td>\n",
       "      <td>foot</td>\n",
       "      <td>mph</td>\n",
       "      <td>mph/s</td>\n",
       "      <td>degree</td>\n",
       "      <td>ae2f8cfe-934d-486d-86f9-b05b6dcc8ffb</td>\n",
       "      <td>Ball</td>\n",
       "      <td>Called</td>\n",
       "      <td>...</td>\n",
       "      <td>[{'team1': 1, 'team2': 0}, {'team1': 0, 'team2...</td>\n",
       "      <td>0</td>\n",
       "      <td>1</td>\n",
       "      <td>0</td>\n",
       "      <td>0</td>\n",
       "      <td>1</td>\n",
       "      <td>0</td>\n",
       "      <td>0</td>\n",
       "      <td>NaN</td>\n",
       "      <td>NaN</td>\n",
       "    </tr>\n",
       "    <tr>\n",
       "      <th>3</th>\n",
       "      <td>[]</td>\n",
       "      <td>[{'time': 0.0430903, 'pos': [-1.08296228279852...</td>\n",
       "      <td>[{'event': 'First', 'time': -0.430037700000000...</td>\n",
       "      <td>foot</td>\n",
       "      <td>mph</td>\n",
       "      <td>mph/s</td>\n",
       "      <td>degree</td>\n",
       "      <td>58e88a96-6f8a-4d37-894c-2f57ebad50e8</td>\n",
       "      <td>Ball</td>\n",
       "      <td>Called</td>\n",
       "      <td>...</td>\n",
       "      <td>[{'team1': 0, 'team2': 0}, {'team1': 0, 'team2...</td>\n",
       "      <td>0</td>\n",
       "      <td>2</td>\n",
       "      <td>0</td>\n",
       "      <td>2</td>\n",
       "      <td>1</td>\n",
       "      <td>2</td>\n",
       "      <td>0</td>\n",
       "      <td>NaN</td>\n",
       "      <td>NaN</td>\n",
       "    </tr>\n",
       "    <tr>\n",
       "      <th>4</th>\n",
       "      <td>[]</td>\n",
       "      <td>[{'time': 0.0369063, 'pos': [-1.50433512772240...</td>\n",
       "      <td>[{'event': 'No'}]</td>\n",
       "      <td>foot</td>\n",
       "      <td>mph</td>\n",
       "      <td>mph/s</td>\n",
       "      <td>degree</td>\n",
       "      <td>5f2aa62c-727d-4da3-82ef-0810a75dcba5</td>\n",
       "      <td>Ball</td>\n",
       "      <td>Called</td>\n",
       "      <td>...</td>\n",
       "      <td>[{'team1': 0, 'team2': 0}, {'team1': 0, 'team2...</td>\n",
       "      <td>0</td>\n",
       "      <td>2</td>\n",
       "      <td>0</td>\n",
       "      <td>0</td>\n",
       "      <td>1</td>\n",
       "      <td>0</td>\n",
       "      <td>0</td>\n",
       "      <td>Sinker</td>\n",
       "      <td>NaN</td>\n",
       "    </tr>\n",
       "  </tbody>\n",
       "</table>\n",
       "<p>5 rows × 30 columns</p>\n",
       "</div>"
      ],
      "text/plain": [
       "  events                                       samples_ball  \\\n",
       "0     []  [{'time': 0.0103363, 'pos': [-1.61897673474511...   \n",
       "1     []  [{'time': 0.0296728, 'pos': [-0.80462875757812...   \n",
       "2     []  [{'time': 0.0382683, 'pos': [-1.08782534756770...   \n",
       "3     []  [{'time': 0.0430903, 'pos': [-1.08296228279852...   \n",
       "4     []  [{'time': 0.0369063, 'pos': [-1.50433512772240...   \n",
       "\n",
       "                                         samples_bat units.length  \\\n",
       "0                                  [{'event': 'No'}]         foot   \n",
       "1                                  [{'event': 'No'}]         foot   \n",
       "2                                  [{'event': 'No'}]         foot   \n",
       "3  [{'event': 'First', 'time': -0.430037700000000...         foot   \n",
       "4                                  [{'event': 'No'}]         foot   \n",
       "\n",
       "  units.velocity units.acceleration units.angle  \\\n",
       "0            mph              mph/s      degree   \n",
       "1            mph              mph/s      degree   \n",
       "2            mph              mph/s      degree   \n",
       "3            mph              mph/s      degree   \n",
       "4            mph              mph/s      degree   \n",
       "\n",
       "             summary_acts.pitch.eventId summary_acts.pitch.result  \\\n",
       "0  0da10a0e-60ec-4714-b086-2001c7c01ed9                      Ball   \n",
       "1  7e78552a-4ab3-4667-a748-024841d6f9cc                      Ball   \n",
       "2  ae2f8cfe-934d-486d-86f9-b05b6dcc8ffb                      Ball   \n",
       "3  58e88a96-6f8a-4d37-894c-2f57ebad50e8                      Ball   \n",
       "4  5f2aa62c-727d-4da3-82ef-0810a75dcba5                      Ball   \n",
       "\n",
       "  summary_acts.pitch.action  ...  \\\n",
       "0                    Called  ...   \n",
       "1                    Called  ...   \n",
       "2                    Called  ...   \n",
       "3                    Called  ...   \n",
       "4                    Called  ...   \n",
       "\n",
       "                          summary_score.runs.innings  summary_score.runs.play  \\\n",
       "0                         [{'team1': 0, 'team2': 0}]                        0   \n",
       "1  [{'team1': 0, 'team2': 0}, {'team1': 0, 'team2...                        0   \n",
       "2  [{'team1': 1, 'team2': 0}, {'team1': 0, 'team2...                        0   \n",
       "3  [{'team1': 0, 'team2': 0}, {'team1': 0, 'team2...                        0   \n",
       "4  [{'team1': 0, 'team2': 0}, {'team1': 0, 'team2...                        0   \n",
       "\n",
       "   summary_score.outs.inning  summary_score.outs.play  \\\n",
       "0                          0                        0   \n",
       "1                          1                        0   \n",
       "2                          1                        0   \n",
       "3                          2                        0   \n",
       "4                          2                        0   \n",
       "\n",
       "   summary_score.count.balls.plateAppearance  summary_score.count.balls.play  \\\n",
       "0                                          1                               1   \n",
       "1                                          0                               1   \n",
       "2                                          0                               1   \n",
       "3                                          2                               1   \n",
       "4                                          0                               1   \n",
       "\n",
       "   summary_score.count.strikes.plateAppearance  \\\n",
       "0                                            2   \n",
       "1                                            0   \n",
       "2                                            0   \n",
       "3                                            2   \n",
       "4                                            0   \n",
       "\n",
       "   summary_score.count.strikes.play  summary_acts.pitch.type  \\\n",
       "0                                 0                      NaN   \n",
       "1                                 0                      NaN   \n",
       "2                                 0                      NaN   \n",
       "3                                 0                      NaN   \n",
       "4                                 0                   Sinker   \n",
       "\n",
       "   summary_acts.hit.eventId  \n",
       "0                       NaN  \n",
       "1                       NaN  \n",
       "2                       NaN  \n",
       "3                       NaN  \n",
       "4                       NaN  \n",
       "\n",
       "[5 rows x 30 columns]"
      ]
     },
     "execution_count": 146,
     "metadata": {},
     "output_type": "execute_result"
    }
   ],
   "source": [
    "df = pd.json_normalize(data_list)\n",
    "df.head()"
   ]
  },
  {
   "cell_type": "code",
   "execution_count": 147,
   "metadata": {},
   "outputs": [
    {
     "data": {
      "text/plain": [
       "1251"
      ]
     },
     "execution_count": 147,
     "metadata": {},
     "output_type": "execute_result"
    }
   ],
   "source": [
    "len(df)"
   ]
  },
  {
   "cell_type": "code",
   "execution_count": 148,
   "metadata": {},
   "outputs": [
    {
     "data": {
      "text/plain": [
       "events                                          object\n",
       "samples_ball                                    object\n",
       "samples_bat                                     object\n",
       "units.length                                    object\n",
       "units.velocity                                  object\n",
       "units.acceleration                              object\n",
       "units.angle                                     object\n",
       "summary_acts.pitch.eventId                      object\n",
       "summary_acts.pitch.result                       object\n",
       "summary_acts.pitch.action                       object\n",
       "summary_acts.pitch.speed.mph                   float64\n",
       "summary_acts.pitch.speed.kph                   float64\n",
       "summary_acts.pitch.speed.mps                   float64\n",
       "summary_acts.pitch.spin.rpm                    float64\n",
       "summary_acts.hit.speed.mph                     float64\n",
       "summary_acts.hit.speed.kph                     float64\n",
       "summary_acts.hit.speed.mps                     float64\n",
       "summary_acts.hit.spin.rpm                      float64\n",
       "summary_score.runs.game.team1                    int64\n",
       "summary_score.runs.game.team2                    int64\n",
       "summary_score.runs.innings                      object\n",
       "summary_score.runs.play                          int64\n",
       "summary_score.outs.inning                        int64\n",
       "summary_score.outs.play                          int64\n",
       "summary_score.count.balls.plateAppearance        int64\n",
       "summary_score.count.balls.play                   int64\n",
       "summary_score.count.strikes.plateAppearance      int64\n",
       "summary_score.count.strikes.play                 int64\n",
       "summary_acts.pitch.type                         object\n",
       "summary_acts.hit.eventId                        object\n",
       "dtype: object"
      ]
     },
     "execution_count": 148,
     "metadata": {},
     "output_type": "execute_result"
    }
   ],
   "source": [
    "df.dtypes"
   ]
  },
  {
   "cell_type": "code",
   "execution_count": 149,
   "metadata": {},
   "outputs": [
    {
     "name": "stdout",
     "output_type": "stream",
     "text": [
      "length:  ['foot']\n",
      "velocity:  ['mph']\n",
      "acceleration:  ['mph/s']\n",
      "angle:  ['degree']\n"
     ]
    }
   ],
   "source": [
    "# check for rows with unit not foot, mph, mph/s\n",
    "print('length: ', df['units.length'].unique())\n",
    "print('velocity: ', df['units.velocity'].unique())\n",
    "print('acceleration: ', df['units.acceleration'].unique())\n",
    "print('angle: ', df['units.angle'].unique())"
   ]
  },
  {
   "cell_type": "code",
   "execution_count": 150,
   "metadata": {},
   "outputs": [],
   "source": [
    "# df.to_csv('all_data.csv', index=False)"
   ]
  },
  {
   "cell_type": "markdown",
   "metadata": {},
   "source": [
    "### Find groups of hits"
   ]
  },
  {
   "cell_type": "code",
   "execution_count": 151,
   "metadata": {},
   "outputs": [],
   "source": [
    "save_dir = 'grouped_ids'"
   ]
  },
  {
   "cell_type": "code",
   "execution_count": 152,
   "metadata": {},
   "outputs": [
    {
     "name": "stdout",
     "output_type": "stream",
     "text": [
      "325\n"
     ]
    }
   ],
   "source": [
    "# filter for pitches with a hit\n",
    "hit_df = df.dropna(subset=['summary_acts.hit.eventId'], ignore_index=True)\n",
    "print(len(hit_df))"
   ]
  },
  {
   "cell_type": "code",
   "execution_count": 153,
   "metadata": {},
   "outputs": [],
   "source": [
    "# expand events column (hit details) & remove unnecessary columns\n",
    "events_df = pd.json_normalize(hit_df['events'].explode().to_list())\n",
    "events_df = events_df.add_prefix('events.')\n",
    "hit_df = hit_df.join(events_df)\n",
    "hit_df = hit_df.drop(columns=['events', 'units.length', 'units.velocity', 'units.acceleration', 'units.angle',\n",
    "                              'summary_acts.pitch.speed.kph', 'summary_acts.pitch.speed.mps', \n",
    "                              'summary_acts.hit.speed.kph', 'summary_acts.hit.speed.mps'])"
   ]
  },
  {
   "cell_type": "code",
   "execution_count": 154,
   "metadata": {},
   "outputs": [],
   "source": [
    "angle_df = pd.DataFrame(hit_df['events.start.angle'].tolist(), columns=['events.spray_angle', 'events.launch_angle'])\n",
    "hit_df = hit_df.drop(columns=['events.start.angle'])\n",
    "hit_df = pd.concat([hit_df, angle_df], axis=1)"
   ]
  },
  {
   "cell_type": "code",
   "execution_count": 155,
   "metadata": {},
   "outputs": [
    {
     "data": {
      "text/plain": [
       "samples_ball                                   [{'time': -0.0046734, 'pos': [-1.0477735799342...\n",
       "samples_bat                                    [{'event': 'First', 'time': -0.3944424, 'head'...\n",
       "summary_acts.pitch.eventId                                  b120cf14-305c-442c-a739-c499bf61eec8\n",
       "summary_acts.pitch.result                                                            HitIntoPlay\n",
       "summary_acts.pitch.action                                                                    NaN\n",
       "summary_acts.pitch.speed.mph                                                                84.0\n",
       "summary_acts.pitch.spin.rpm                                                               2720.0\n",
       "summary_acts.hit.speed.mph                                                                  84.0\n",
       "summary_acts.hit.spin.rpm                                                                 1560.0\n",
       "summary_score.runs.game.team1                                                                  4\n",
       "summary_score.runs.game.team2                                                                  6\n",
       "summary_score.runs.innings                     [{'team1': 0, 'team2': 0}, {'team1': 0, 'team2...\n",
       "summary_score.runs.play                                                                        0\n",
       "summary_score.outs.inning                                                                      1\n",
       "summary_score.outs.play                                                                        1\n",
       "summary_score.count.balls.plateAppearance                                                      0\n",
       "summary_score.count.balls.play                                                                 0\n",
       "summary_score.count.strikes.plateAppearance                                                    0\n",
       "summary_score.count.strikes.play                                                               0\n",
       "summary_acts.pitch.type                                                                      NaN\n",
       "summary_acts.hit.eventId                                    22560b81-5e95-4221-9036-60b1b20ca497\n",
       "events.type                                                                                  Hit\n",
       "events.eventId                                              22560b81-5e95-4221-9036-60b1b20ca497\n",
       "events.teamId.mlbId                                                                        63813\n",
       "events.personId.mlbId                                                                  617522563\n",
       "events.spray_angle                                                                     -4.518026\n",
       "events.launch_angle                                                                    25.228142\n",
       "Name: 0, dtype: object"
      ]
     },
     "execution_count": 155,
     "metadata": {},
     "output_type": "execute_result"
    }
   ],
   "source": [
    "hit_df.iloc[0]"
   ]
  },
  {
   "cell_type": "markdown",
   "metadata": {},
   "source": [
    "#### Group by barrel"
   ]
  },
  {
   "cell_type": "markdown",
   "metadata": {},
   "source": [
    "*\"To be Barreled, a batted ball requires an exit velocity of at least 98 mph. At that speed, balls struck with a launch angle between 26-30 degrees always garner Barreled classification. For every mph over 98, the range of launch angles expands.\"* - mlb.com"
   ]
  },
  {
   "cell_type": "code",
   "execution_count": 156,
   "metadata": {},
   "outputs": [
    {
     "name": "stdout",
     "output_type": "stream",
     "text": [
      "7\n",
      "     events.launch_angle  summary_acts.hit.speed.mph\n",
      "26             28.158941                        98.0\n",
      "30             28.101540                       100.0\n",
      "111            28.688241                       105.0\n",
      "188            29.320294                       100.0\n",
      "242            28.543504                        99.0\n",
      "275            28.753227                        99.0\n",
      "298            29.489962                       104.0\n"
     ]
    }
   ],
   "source": [
    "# filter to hits that fulfill above requirement\n",
    "# - launch angle: events.launch_angle\n",
    "# - exit velocity: summary_acts.hit.speed.mph\n",
    "\n",
    "barrel_df = hit_df[(hit_df['events.launch_angle'] >= 26) \n",
    "                & (hit_df['events.launch_angle'] <= 30)\n",
    "                & (hit_df['summary_acts.hit.speed.mph'] >= 98)]\n",
    "print(len(barrel_df))\n",
    "print(barrel_df[['events.launch_angle', 'summary_acts.hit.speed.mph']])"
   ]
  },
  {
   "cell_type": "code",
   "execution_count": 157,
   "metadata": {},
   "outputs": [
    {
     "data": {
      "text/plain": [
       "['57d6343f-cdae-4517-acb4-ea73b838e2e9',\n",
       " 'bee9aa56-bfdd-4871-ace1-178db56aa19a',\n",
       " 'a44f0611-618d-41dd-bb9b-089140c3f317',\n",
       " '5fbf979d-ac7a-4f41-9498-2f94507ecba1',\n",
       " 'f2f58c66-ea90-42cb-8d64-2ab98fe5c64a',\n",
       " '687e2c12-dff4-4580-9226-c111366746e5',\n",
       " 'af219680-da54-4e43-8ea5-3ea020f3bc2d']"
      ]
     },
     "execution_count": 157,
     "metadata": {},
     "output_type": "execute_result"
    }
   ],
   "source": [
    "barrel_ids = list(barrel_df['events.eventId'])\n",
    "barrel_ids"
   ]
  },
  {
   "cell_type": "code",
   "execution_count": 158,
   "metadata": {},
   "outputs": [
    {
     "data": {
      "text/plain": [
       "318"
      ]
     },
     "execution_count": 158,
     "metadata": {},
     "output_type": "execute_result"
    }
   ],
   "source": [
    "non_barrel_df = hit_df[(hit_df['events.launch_angle'] < 26) \n",
    "                    | (hit_df['events.launch_angle'] > 30)\n",
    "                    | (hit_df['summary_acts.hit.speed.mph'] < 98)]\n",
    "non_barrel_ids = list(non_barrel_df['events.eventId'])\n",
    "len(non_barrel_ids)"
   ]
  },
  {
   "cell_type": "code",
   "execution_count": 159,
   "metadata": {},
   "outputs": [],
   "source": [
    "barrel_group = {\n",
    "    'barrel': barrel_ids,\n",
    "    'other': non_barrel_ids\n",
    "}\n",
    "with open(os.path.join(save_dir, 'by_barrel.json'), 'w') as file:\n",
    "    json.dump(barrel_group, file, indent=4)"
   ]
  },
  {
   "cell_type": "markdown",
   "metadata": {},
   "source": [
    "#### Group by pitch count (strikes)"
   ]
  },
  {
   "cell_type": "code",
   "execution_count": 160,
   "metadata": {},
   "outputs": [
    {
     "data": {
      "text/html": [
       "<div>\n",
       "<style scoped>\n",
       "    .dataframe tbody tr th:only-of-type {\n",
       "        vertical-align: middle;\n",
       "    }\n",
       "\n",
       "    .dataframe tbody tr th {\n",
       "        vertical-align: top;\n",
       "    }\n",
       "\n",
       "    .dataframe thead th {\n",
       "        text-align: right;\n",
       "    }\n",
       "</style>\n",
       "<table border=\"1\" class=\"dataframe\">\n",
       "  <thead>\n",
       "    <tr style=\"text-align: right;\">\n",
       "      <th></th>\n",
       "      <th>summary_score.count.balls.plateAppearance</th>\n",
       "      <th>summary_score.count.strikes.plateAppearance</th>\n",
       "    </tr>\n",
       "  </thead>\n",
       "  <tbody>\n",
       "    <tr>\n",
       "      <th>0</th>\n",
       "      <td>0</td>\n",
       "      <td>0</td>\n",
       "    </tr>\n",
       "    <tr>\n",
       "      <th>1</th>\n",
       "      <td>2</td>\n",
       "      <td>0</td>\n",
       "    </tr>\n",
       "    <tr>\n",
       "      <th>2</th>\n",
       "      <td>1</td>\n",
       "      <td>2</td>\n",
       "    </tr>\n",
       "    <tr>\n",
       "      <th>3</th>\n",
       "      <td>0</td>\n",
       "      <td>2</td>\n",
       "    </tr>\n",
       "    <tr>\n",
       "      <th>4</th>\n",
       "      <td>1</td>\n",
       "      <td>1</td>\n",
       "    </tr>\n",
       "    <tr>\n",
       "      <th>...</th>\n",
       "      <td>...</td>\n",
       "      <td>...</td>\n",
       "    </tr>\n",
       "    <tr>\n",
       "      <th>320</th>\n",
       "      <td>1</td>\n",
       "      <td>1</td>\n",
       "    </tr>\n",
       "    <tr>\n",
       "      <th>321</th>\n",
       "      <td>0</td>\n",
       "      <td>2</td>\n",
       "    </tr>\n",
       "    <tr>\n",
       "      <th>322</th>\n",
       "      <td>0</td>\n",
       "      <td>2</td>\n",
       "    </tr>\n",
       "    <tr>\n",
       "      <th>323</th>\n",
       "      <td>2</td>\n",
       "      <td>2</td>\n",
       "    </tr>\n",
       "    <tr>\n",
       "      <th>324</th>\n",
       "      <td>3</td>\n",
       "      <td>2</td>\n",
       "    </tr>\n",
       "  </tbody>\n",
       "</table>\n",
       "<p>325 rows × 2 columns</p>\n",
       "</div>"
      ],
      "text/plain": [
       "     summary_score.count.balls.plateAppearance  \\\n",
       "0                                            0   \n",
       "1                                            2   \n",
       "2                                            1   \n",
       "3                                            0   \n",
       "4                                            1   \n",
       "..                                         ...   \n",
       "320                                          1   \n",
       "321                                          0   \n",
       "322                                          0   \n",
       "323                                          2   \n",
       "324                                          3   \n",
       "\n",
       "     summary_score.count.strikes.plateAppearance  \n",
       "0                                              0  \n",
       "1                                              0  \n",
       "2                                              2  \n",
       "3                                              2  \n",
       "4                                              1  \n",
       "..                                           ...  \n",
       "320                                            1  \n",
       "321                                            2  \n",
       "322                                            2  \n",
       "323                                            2  \n",
       "324                                            2  \n",
       "\n",
       "[325 rows x 2 columns]"
      ]
     },
     "execution_count": 160,
     "metadata": {},
     "output_type": "execute_result"
    }
   ],
   "source": [
    "hit_df[['summary_score.count.balls.plateAppearance', \n",
    "        'summary_score.count.strikes.plateAppearance']]"
   ]
  },
  {
   "cell_type": "code",
   "execution_count": 161,
   "metadata": {},
   "outputs": [
    {
     "data": {
      "text/html": [
       "<div>\n",
       "<style scoped>\n",
       "    .dataframe tbody tr th:only-of-type {\n",
       "        vertical-align: middle;\n",
       "    }\n",
       "\n",
       "    .dataframe tbody tr th {\n",
       "        vertical-align: top;\n",
       "    }\n",
       "\n",
       "    .dataframe thead th {\n",
       "        text-align: right;\n",
       "    }\n",
       "</style>\n",
       "<table border=\"1\" class=\"dataframe\">\n",
       "  <thead>\n",
       "    <tr style=\"text-align: right;\">\n",
       "      <th></th>\n",
       "      <th>summary_score.count.strikes.plateAppearance</th>\n",
       "      <th>events.eventId</th>\n",
       "    </tr>\n",
       "  </thead>\n",
       "  <tbody>\n",
       "    <tr>\n",
       "      <th>0</th>\n",
       "      <td>0</td>\n",
       "      <td>[22560b81-5e95-4221-9036-60b1b20ca497, f5d3b50...</td>\n",
       "    </tr>\n",
       "    <tr>\n",
       "      <th>1</th>\n",
       "      <td>1</td>\n",
       "      <td>[49dbbf90-93de-48c3-ac45-be1525e29a15, 4683191...</td>\n",
       "    </tr>\n",
       "    <tr>\n",
       "      <th>2</th>\n",
       "      <td>2</td>\n",
       "      <td>[260e8f92-3469-483c-91d3-03417ee3d35e, c8da40a...</td>\n",
       "    </tr>\n",
       "  </tbody>\n",
       "</table>\n",
       "</div>"
      ],
      "text/plain": [
       "   summary_score.count.strikes.plateAppearance  \\\n",
       "0                                            0   \n",
       "1                                            1   \n",
       "2                                            2   \n",
       "\n",
       "                                      events.eventId  \n",
       "0  [22560b81-5e95-4221-9036-60b1b20ca497, f5d3b50...  \n",
       "1  [49dbbf90-93de-48c3-ac45-be1525e29a15, 4683191...  \n",
       "2  [260e8f92-3469-483c-91d3-03417ee3d35e, c8da40a...  "
      ]
     },
     "execution_count": 161,
     "metadata": {},
     "output_type": "execute_result"
    }
   ],
   "source": [
    "# group by strike counts at the time of plate appearance\n",
    "strikes_col = 'summary_score.count.strikes.plateAppearance'\n",
    "event_id_col = 'events.eventId'\n",
    "\n",
    "strike_ct_df = hit_df.groupby(strikes_col)[event_id_col].apply(list).reset_index()\n",
    "strike_ct_df"
   ]
  },
  {
   "cell_type": "code",
   "execution_count": 162,
   "metadata": {},
   "outputs": [],
   "source": [
    "strike_ct_dict = strike_ct_df[event_id_col].to_dict()\n",
    "with open(os.path.join(save_dir, 'by_strike_ct.json'), 'w') as file:\n",
    "    json.dump(strike_ct_dict, file, indent=4)"
   ]
  },
  {
   "cell_type": "markdown",
   "metadata": {},
   "source": [
    "## Visualization\n",
    "We used matplotlib to create visualizations for the bat swings of barrels based on x and y position. First, we defined a function to load our games into a dataframe."
   ]
  },
  {
   "cell_type": "markdown",
   "metadata": {},
   "source": [
    "First, we endeavoured to create a visualization that shows the barrels overlaid."
   ]
  },
  {
   "cell_type": "code",
   "execution_count": 163,
   "metadata": {},
   "outputs": [
    {
     "data": {
      "image/png": "[encoded data removed]",
      "text/plain": [
       "<Figure size 640x480 with 1 Axes>"
      ]
     },
     "metadata": {},
     "output_type": "display_data"
    }
   ],
   "source": [
    "def get_coords(df):\n",
    "    split_df = pd.DataFrame(df['pos'].tolist(),index=df.index)\n",
    "\n",
    "    split_df.columns = ['x','y','z']\n",
    "    split_df = split_df.drop_duplicates()\n",
    "\n",
    "    x, y, z = (split_df[coord].to_numpy() for coord in split_df.columns)\n",
    "    tck, u = splprep([x,y], s=0)\n",
    "    new_x, new_y = splev(np.linspace(0, 1, 1000), tck)\n",
    "    \n",
    "    return new_x, new_y\n",
    "\n",
    "head_df, handle_df = get_game(game_ids[0])\n",
    "\n",
    "# base\n",
    "coord = [[0, 0], [-0.708335, 0.708333], [-0.708335, 1.41667], [0.708335, 1.41667], [0.708335, 0.708333], [0, 0]]\n",
    "xs, ys = zip(*coord) # split coords into x and y\n",
    "plt.figure()\n",
    "plt.plot(xs,ys, color='black') \n",
    "\n",
    "head_x, head_y = get_coords(head_df)\n",
    "handle_x, handle_y = get_coords(handle_df)\n",
    "\n",
    "plt.plot(head_x, head_y, alpha=0.75)\n",
    "plt.plot(handle_x, handle_y, alpha=0.75, color='orange')\n",
    "\n",
    "plt.title(\"Bat trajectory\")\n",
    "plt.xlabel(\"x\")\n",
    "plt.ylabel(\"y\")\n",
    "plt.show()\n"
   ]
  },
  {
   "cell_type": "code",
   "execution_count": 164,
   "metadata": {},
   "outputs": [],
   "source": [
    "#code to load a game, combines the data analysis strategies and functions used above\n",
    "base_directory = \"./anonymized-files-wisd\"\n",
    "file_list = os.listdir(base_directory)\n",
    "data = []\n",
    "frames = []\n",
    "categories = []\n",
    "\n",
    "def load_game(games:str, type:str) -> DataFrame:\n",
    "\tfor i in range(len(file_list)):\n",
    "\t\tcurr_file = open(base_directory+\"/\"+file_list[i])\n",
    "\t\tdata.append(json.load(curr_file))\n",
    "\n",
    "\tdf = pd.json_normalize(data) # main dataframe\n",
    "\n",
    "\t## list of unnecessary columns\n",
    "\tcategories = df.columns.values.tolist()\n",
    "\tcategories.remove(type)\n",
    "\tcategories.remove('events')\n",
    "\n",
    "\tdf = df.drop(columns=categories) # drop columns\n",
    "\n",
    "\t## list of eventIds\n",
    "\the_df = pd.json_normalize(df['events'].explode().to_list()) # hit events dataframe\n",
    "\n",
    "\tevents_categories = he_df.columns.values.tolist() # list of unnecessary columns\n",
    "\tevents_categories.remove('eventId') \n",
    "\the_df = he_df.drop(columns=events_categories) # drop columns\n",
    "\thit_events = he_df['eventId'].tolist()\n",
    " \n",
    "\tpositions = 0\n",
    "\tif hit_events.index(games):\n",
    "\t\tpositions = hit_events.index(games)\n",
    "\t\n",
    "\treturn pd.DataFrame(df[type].iloc[positions])"
   ]
  },
  {
   "cell_type": "markdown",
   "metadata": {},
   "source": [
    "Then, we loaded the game ids that responded to barrels."
   ]
  },
  {
   "cell_type": "code",
   "execution_count": 165,
   "metadata": {},
   "outputs": [],
   "source": [
    "game_ids = [\n",
    "        \"687e2c12-dff4-4580-9226-c111366746e5\",\n",
    "        \"af219680-da54-4e43-8ea5-3ea020f3bc2d\",\n",
    "        \"a44f0611-618d-41dd-bb9b-089140c3f317\",\n",
    "        \"f2f58c66-ea90-42cb-8d64-2ab98fe5c64a\",\n",
    "        \"57d6343f-cdae-4517-acb4-ea73b838e2e9\",\n",
    "        \"5fbf979d-ac7a-4f41-9498-2f94507ecba1\",\n",
    "        \"bee9aa56-bfdd-4871-ace1-178db56aa19a\"\n",
    "    ]"
   ]
  },
  {
   "cell_type": "markdown",
   "metadata": {},
   "source": [
    "We created two functions to get the x and y coordinates from the specific game ids."
   ]
  },
  {
   "cell_type": "code",
   "execution_count": 166,
   "metadata": {},
   "outputs": [],
   "source": [
    "be_handle = ['event','time','head']\n",
    "be_head = ['event','time','handle']\n",
    "be = ['time', 'vel', 'acc']\n",
    "avg_headx_df = pd.DataFrame(columns=['x1', 'x2', 'x3', 'x4','x5', 'x6'])\n",
    "avg_heady_df = pd.DataFrame(columns=['y1', 'y2', 'y3', 'y4','y5', 'y6'])\n",
    "avg_handlex_df = pd.DataFrame(columns=['x1', 'x2', 'x3', 'x4','x5', 'x6'])\n",
    "avg_handley_df = pd.DataFrame(columns=['y1', 'y2', 'y3', 'y4','y5', 'y6'])\n",
    "\n",
    "def get_game(id):\n",
    "    bhead_df = data.load_game(id, 'samples_bat')\n",
    "    bhead_df = bhead_df.drop(columns=be_head)\n",
    "    head_df = pd.json_normalize(bhead_df['head'].to_list())\n",
    "\n",
    "    bhandle_df = data.load_game(id, 'samples_bat')\n",
    "    bhandle_df = bhandle_df.drop(columns=be_handle)\n",
    "    handle_df = pd.json_normalize(bhandle_df['handle'].to_list())\n",
    "    return head_df, handle_df\n",
    "\n",
    "def get_coords(df, colx, coly, head):\n",
    "    split_df = pd.DataFrame(df['pos'].tolist(),index=df.index)\n",
    "    split_df.columns = ['x','y','z']\n",
    "    split_df = split_df.drop_duplicates()\n",
    "    split_df = split_df.iloc[:368]\n",
    "    if (head):\n",
    "        avg_headx_df[colx] = split_df['x'].values\n",
    "        avg_heady_df[coly] = split_df['y'].values\n",
    "    else:\n",
    "        avg_handlex_df[colx] = split_df['x'].values\n",
    "        avg_handley_df[coly] = split_df['y'].values"
   ]
  },
  {
   "cell_type": "markdown",
   "metadata": {},
   "source": [
    "Here is the graph of the average of the dataframes, along with how we calculated it:"
   ]
  },
  {
   "cell_type": "code",
   "execution_count": 167,
   "metadata": {},
   "outputs": [
    {
     "name": "stderr",
     "output_type": "stream",
     "text": [
      "Exception ignored in: <bound method IPythonKernel._clean_thread_parent_frames of <ipykernel.ipkernel.IPythonKernel object at 0x10755a910>>\n",
      "Traceback (most recent call last):\n",
      "  File \"/opt/homebrew/lib/python3.11/site-packages/ipykernel/ipkernel.py\", line 775, in _clean_thread_parent_frames\n",
      "    def _clean_thread_parent_frames(\n",
      "\n",
      "KeyboardInterrupt: \n"
     ]
    },
    {
     "data": {
      "image/png": "[encoded data removed]",
      "text/plain": [
       "<Figure size 640x480 with 1 Axes>"
      ]
     },
     "metadata": {},
     "output_type": "display_data"
    }
   ],
   "source": [
    "import data\n",
    "import numpy as np\n",
    "import pandas as pd\n",
    "import matplotlib.pyplot as plt\n",
    "from scipy.interpolate import make_interp_spline, splprep, splev\n",
    "import json\n",
    "\n",
    "# plot points\n",
    "head_df, handle_df = get_game(game_ids[0])\n",
    "head_df2, handle_df2 = get_game(game_ids[1])\n",
    "head_df3, handle_df3 = get_game(game_ids[2])\n",
    "head_df4, handle_df4 = get_game(game_ids[3])\n",
    "head_df5, handle_df5 = get_game(game_ids[4])\n",
    "head_df6, handle_df6 = get_game(game_ids[5])\n",
    "head_df7, handle_df7 = get_game(game_ids[6])\n",
    "\n",
    "get_coords(head_df, 'x1', 'y1', True)\n",
    "get_coords(head_df2, 'x2', 'y2', True)\n",
    "get_coords(head_df3, 'x3', 'y3', True)\n",
    "get_coords(head_df4, 'x4', 'y4', True)\n",
    "get_coords(head_df5, 'x5', 'y5', True)\n",
    "get_coords(head_df6, 'x6', 'y6', True)\n",
    "get_coords(head_df7, 'x7', 'y7', True)\n",
    "\n",
    "get_coords(handle_df, 'x1', 'y1', False)\n",
    "get_coords(handle_df2, 'x2', 'y2', False)\n",
    "get_coords(handle_df3, 'x3', 'y3', False)\n",
    "get_coords(handle_df4, 'x4', 'y4', False)\n",
    "get_coords(handle_df5, 'x5', 'y5', False)\n",
    "get_coords(handle_df6, 'x6', 'y6', False)\n",
    "get_coords(handle_df7, 'x7', 'y7', False)\n",
    "\n",
    "x_avg = avg_headx_df.mean(axis=1)\n",
    "y_avg = avg_heady_df.mean(axis=1)\n",
    "\n",
    "head_x = x_avg.tolist()\n",
    "head_y = y_avg.tolist()\n",
    "\n",
    "x_avg2 = avg_handlex_df.mean(axis=1)\n",
    "y_avg2 = avg_handley_df.mean(axis=1)\n",
    "\n",
    "handle_x = x_avg2.tolist()\n",
    "handle_y = y_avg2.tolist()\n",
    "\n",
    "tck, u = splprep([head_x,head_y], s=0)\n",
    "new_x, new_y = splev(np.linspace(0, 1, 1000), tck)\n",
    "\n",
    "tck2, u2 = splprep([handle_x,handle_y], s=0)\n",
    "new_x2, new_y2 = splev(np.linspace(0, 1, 1000), tck2)\n",
    "\n",
    "# base\n",
    "coord = [[0, 0], [-0.708335, 0.708333], [-0.708335, 1.41667], [0.708335, 1.41667], [0.708335, 0.708333], [0, 0]]\n",
    "xs, ys = zip(*coord) # split coords into x and y\n",
    "plt.figure()\n",
    "plt.plot(xs,ys, color='black') \n",
    "\n",
    "plt.plot(new_x, new_y, alpha=0.75, color='blue')\n",
    "plt.plot(new_x2, new_y2, alpha=0.75, color='orange')\n",
    "\n",
    "plt.legend([\"home plate\", \"bat head\", \"bat handle\"], loc=\"lower right\")\n",
    "\n",
    "plt.title(\"Bat trajectory\")\n",
    "plt.xlabel(\"x\")\n",
    "plt.ylabel(\"y\")\n",
    "plt.show()"
   ]
  },
  {
   "cell_type": "code",
   "execution_count": null,
   "metadata": {},
   "outputs": [],
   "source": [
    "Image(filename='./Figure_1.png')"
   ]
  },
  {
   "cell_type": "markdown",
   "metadata": {},
   "source": [
    "## Further Analysis\n",
    "MLB considers the ideal launch angle as the “sweet spot launch angle”, which is between 8-32 degrees. \n",
    "https://www.mlb.com/glossary/statcast/launch-angle\n",
    "\n",
    "Our data was grouped into 3 ranges:\n",
    "1.\tLow launch angle: < 8 degrees\n",
    "2.\tIdeal launch angle: 8-32 degrees\n",
    "3.\tHigh launch angle: >32 degrees\n",
    "\n",
    "There are 3 results of a pitch, being a strike, a hitintoplay, or a ball. Strikes are not desirable to the batter because 3 strikes lead to a strikeout, but  hitintoplays and  balls are desirable to the batter since four balls allow the batter to walk to first base. \n",
    "\n",
    "Method of analysis: \n",
    "1.\tImport JSON files into Excel power query.\n",
    "2.\tParse through JSON, creating columns for pitch results and angle. \n",
    "•\tSince at bats that did not have hits were empty in “Events,” filtered out the rows that were null, then expanded “Events” to angles. \n",
    "3.\tSince launch angle is in the second index of the angles list, create a new column indicating the row indices.\n",
    "4.\tFilter out the rows with odd indices, leaving only the launch angle behind in the angles column. \n",
    "5.\tDetermine % of strikes, % of hitintoplays, and % of balls for each launch angle range. \n",
    "The results from the data are:"
   ]
  },
  {
   "cell_type": "code",
   "execution_count": null,
   "metadata": {},
   "outputs": [
    {
     "data": {
      "image/png": "[encoded data removed]",
      "text/plain": [
       "<IPython.core.display.Image object>"
      ]
     },
     "execution_count": 51,
     "metadata": {},
     "output_type": "execute_result"
    }
   ],
   "source": [
    "from IPython.display import Image"
   ]
  },
  {
   "cell_type": "markdown",
   "metadata": {},
   "source": [
    "From Figure 1, the percentage of strikes from low and ideal launch angles were similar, being around 33-36%. However, the percentage of strikes was significantly higher for launch angles >32, being 68%. The percentage of hitintoplays decreased as launch angle increased, and the percentage of balls increased as launch angle increased. \n",
    "\n",
    "The increase in the percentage of strikes as the launch angles increases, supports the findings from the University of Illinois, where “If the batter aims to get on base and secure as many hits as possible with minimal strikeouts, then he should aim for a lower attack angle (resulting in a low peak launch angle). Conversely, if the batter prioritizes hitting as many home runs as possible and is less concerned about striking out, then he should aim for a higher attack angle (resulting in a high peak launch angle).” \n",
    "https://baseball.physics.illinois.edu/PeakLaunchAngle.pdf \n",
    "\n",
    "The hits from the ideal launch angle range show a significantly lower percentage of strikes than the high launch angle range, while also having a significantly larger percentage of hitintoplays than that of the high launch angle range. The high launch angles only had 30% of hitintoplays, while the ideal launch angle range had 62% of hitintoplays. Thus, the “sweet spot launch angle,” defined by the MLB is likely to lead to more hitintoplays while minimizing strikes. "
   ]
  }
 ],
 "metadata": {
  "kernelspec": {
   "display_name": "Python 3.11.7 64-bit",
   "language": "python",
   "name": "python3"
  },
  "language_info": {
   "codemirror_mode": {
    "name": "ipython",
    "version": 3
   },
   "file_extension": ".py",
   "mimetype": "text/x-python",
   "name": "python",
   "nbconvert_exporter": "python",
   "pygments_lexer": "ipython3",
   "version": "3.11.7"
  },
  "vscode": {
   "interpreter": {
    "hash": "b0fa6594d8f4cbf19f97940f81e996739fb7646882a419484c72d19e05852a7e"
   }
  }
 },
 "nbformat": 4,
 "nbformat_minor": 4
}
